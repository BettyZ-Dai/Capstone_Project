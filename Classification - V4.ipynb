{
 "cells": [
  {
   "cell_type": "code",
   "execution_count": 1,
   "metadata": {},
   "outputs": [],
   "source": [
    "import numpy as np \n",
    "import pandas as pd \n",
    "import seaborn as sb\n",
    "import matplotlib.pyplot as plt\n",
    "import sklearn as sk\n",
    "\n",
    "from sklearn.model_selection import train_test_split \n",
    "from sklearn.metrics import accuracy_score\n",
    "from sklearn.metrics import confusion_matrix\n",
    "from sklearn.metrics import roc_auc_score\n",
    "from sklearn.ensemble import RandomForestClassifier\n",
    "\n",
    "import xgboost as xgb"
   ]
  },
  {
   "cell_type": "code",
   "execution_count": 2,
   "metadata": {},
   "outputs": [],
   "source": [
    "pd.set_option('display.max_columns', None)"
   ]
  },
  {
   "cell_type": "code",
   "execution_count": 3,
   "metadata": {},
   "outputs": [],
   "source": [
    "df = pd.read_csv('V4.csv')"
   ]
  },
  {
   "cell_type": "code",
   "execution_count": 4,
   "metadata": {},
   "outputs": [
    {
     "data": {
      "text/html": [
       "<div>\n",
       "<style scoped>\n",
       "    .dataframe tbody tr th:only-of-type {\n",
       "        vertical-align: middle;\n",
       "    }\n",
       "\n",
       "    .dataframe tbody tr th {\n",
       "        vertical-align: top;\n",
       "    }\n",
       "\n",
       "    .dataframe thead th {\n",
       "        text-align: right;\n",
       "    }\n",
       "</style>\n",
       "<table border=\"1\" class=\"dataframe\">\n",
       "  <thead>\n",
       "    <tr style=\"text-align: right;\">\n",
       "      <th></th>\n",
       "      <th>Unnamed: 0</th>\n",
       "      <th>DATE_ID</th>\n",
       "      <th>CAMPAIGN</th>\n",
       "      <th>KEYWORD</th>\n",
       "      <th>_POSITION</th>\n",
       "      <th>CLICKS</th>\n",
       "      <th>CPC</th>\n",
       "      <th>IMPRESSIONS</th>\n",
       "      <th>MEDIA_COST</th>\n",
       "      <th>CTR</th>\n",
       "      <th>Flag</th>\n",
       "      <th>CAMP_ID</th>\n",
       "      <th>week</th>\n",
       "      <th>KW_ID</th>\n",
       "      <th>Q</th>\n",
       "      <th>NETWORK_Bing</th>\n",
       "      <th>NETWORK_Google</th>\n",
       "      <th>NETWORK_Yahoo</th>\n",
       "      <th>CAMPAIGN_TYPE_Branded</th>\n",
       "      <th>CAMPAIGN_TYPE_Unbranded</th>\n",
       "      <th>cluster_assignment</th>\n",
       "      <th>cluster_name</th>\n",
       "    </tr>\n",
       "  </thead>\n",
       "  <tbody>\n",
       "    <tr>\n",
       "      <th>0</th>\n",
       "      <td>0</td>\n",
       "      <td>20170521</td>\n",
       "      <td>Non Brand | Condition | Geo</td>\n",
       "      <td>symptoms of asthma</td>\n",
       "      <td>2.08</td>\n",
       "      <td>3</td>\n",
       "      <td>1.80</td>\n",
       "      <td>51</td>\n",
       "      <td>5.40</td>\n",
       "      <td>0.058824</td>\n",
       "      <td>1</td>\n",
       "      <td>1</td>\n",
       "      <td>7</td>\n",
       "      <td>1</td>\n",
       "      <td>2</td>\n",
       "      <td>0</td>\n",
       "      <td>1</td>\n",
       "      <td>0</td>\n",
       "      <td>0</td>\n",
       "      <td>1</td>\n",
       "      <td>13</td>\n",
       "      <td>asthma symptoms and causes</td>\n",
       "    </tr>\n",
       "    <tr>\n",
       "      <th>1</th>\n",
       "      <td>1</td>\n",
       "      <td>20170521</td>\n",
       "      <td>Brand</td>\n",
       "      <td>product1 spacer</td>\n",
       "      <td>1.00</td>\n",
       "      <td>0</td>\n",
       "      <td>0.00</td>\n",
       "      <td>2</td>\n",
       "      <td>0.00</td>\n",
       "      <td>0.000000</td>\n",
       "      <td>0</td>\n",
       "      <td>2</td>\n",
       "      <td>7</td>\n",
       "      <td>2</td>\n",
       "      <td>2</td>\n",
       "      <td>0</td>\n",
       "      <td>1</td>\n",
       "      <td>0</td>\n",
       "      <td>1</td>\n",
       "      <td>0</td>\n",
       "      <td>1</td>\n",
       "      <td>product1 inhaler/spacer uses, coupons &amp; instru...</td>\n",
       "    </tr>\n",
       "    <tr>\n",
       "      <th>2</th>\n",
       "      <td>2</td>\n",
       "      <td>20170521</td>\n",
       "      <td>Non Brand | Treatment | National</td>\n",
       "      <td>how to prevent asthma</td>\n",
       "      <td>1.48</td>\n",
       "      <td>0</td>\n",
       "      <td>0.00</td>\n",
       "      <td>4</td>\n",
       "      <td>0.00</td>\n",
       "      <td>0.000000</td>\n",
       "      <td>0</td>\n",
       "      <td>3</td>\n",
       "      <td>7</td>\n",
       "      <td>3</td>\n",
       "      <td>2</td>\n",
       "      <td>0</td>\n",
       "      <td>1</td>\n",
       "      <td>0</td>\n",
       "      <td>0</td>\n",
       "      <td>1</td>\n",
       "      <td>2</td>\n",
       "      <td>asthma facts, causes, prevention &amp; relief/control</td>\n",
       "    </tr>\n",
       "    <tr>\n",
       "      <th>3</th>\n",
       "      <td>3</td>\n",
       "      <td>20170521</td>\n",
       "      <td>Non Brand | Info | Geo</td>\n",
       "      <td>facts about asthma</td>\n",
       "      <td>0.00</td>\n",
       "      <td>0</td>\n",
       "      <td>0.00</td>\n",
       "      <td>0</td>\n",
       "      <td>0.00</td>\n",
       "      <td>0.000000</td>\n",
       "      <td>0</td>\n",
       "      <td>4</td>\n",
       "      <td>7</td>\n",
       "      <td>4</td>\n",
       "      <td>2</td>\n",
       "      <td>1</td>\n",
       "      <td>0</td>\n",
       "      <td>0</td>\n",
       "      <td>0</td>\n",
       "      <td>1</td>\n",
       "      <td>2</td>\n",
       "      <td>asthma facts, causes, prevention &amp; relief/control</td>\n",
       "    </tr>\n",
       "    <tr>\n",
       "      <th>4</th>\n",
       "      <td>4</td>\n",
       "      <td>20170521</td>\n",
       "      <td>Non Brand | Condition | Geo</td>\n",
       "      <td>asthma symptoms in children</td>\n",
       "      <td>0.00</td>\n",
       "      <td>0</td>\n",
       "      <td>0.00</td>\n",
       "      <td>0</td>\n",
       "      <td>0.00</td>\n",
       "      <td>0.000000</td>\n",
       "      <td>0</td>\n",
       "      <td>1</td>\n",
       "      <td>7</td>\n",
       "      <td>5</td>\n",
       "      <td>2</td>\n",
       "      <td>1</td>\n",
       "      <td>0</td>\n",
       "      <td>0</td>\n",
       "      <td>0</td>\n",
       "      <td>1</td>\n",
       "      <td>19</td>\n",
       "      <td>asthma symptoms &amp; causes in children</td>\n",
       "    </tr>\n",
       "    <tr>\n",
       "      <th>5</th>\n",
       "      <td>5</td>\n",
       "      <td>20170521</td>\n",
       "      <td>Non Brand | Treatment | Geo</td>\n",
       "      <td>how to reduce asthma symptoms</td>\n",
       "      <td>2.00</td>\n",
       "      <td>0</td>\n",
       "      <td>0.00</td>\n",
       "      <td>1</td>\n",
       "      <td>0.00</td>\n",
       "      <td>0.000000</td>\n",
       "      <td>0</td>\n",
       "      <td>5</td>\n",
       "      <td>7</td>\n",
       "      <td>6</td>\n",
       "      <td>2</td>\n",
       "      <td>0</td>\n",
       "      <td>1</td>\n",
       "      <td>0</td>\n",
       "      <td>0</td>\n",
       "      <td>1</td>\n",
       "      <td>13</td>\n",
       "      <td>asthma symptoms and causes</td>\n",
       "    </tr>\n",
       "    <tr>\n",
       "      <th>6</th>\n",
       "      <td>6</td>\n",
       "      <td>20170521</td>\n",
       "      <td>Non Brand | Condition | Geo</td>\n",
       "      <td>breathing with asthma</td>\n",
       "      <td>2.00</td>\n",
       "      <td>1</td>\n",
       "      <td>3.71</td>\n",
       "      <td>4</td>\n",
       "      <td>3.71</td>\n",
       "      <td>0.250000</td>\n",
       "      <td>1</td>\n",
       "      <td>1</td>\n",
       "      <td>7</td>\n",
       "      <td>7</td>\n",
       "      <td>2</td>\n",
       "      <td>0</td>\n",
       "      <td>1</td>\n",
       "      <td>0</td>\n",
       "      <td>0</td>\n",
       "      <td>1</td>\n",
       "      <td>0</td>\n",
       "      <td>asthma breathing problems &amp; exercises</td>\n",
       "    </tr>\n",
       "    <tr>\n",
       "      <th>7</th>\n",
       "      <td>7</td>\n",
       "      <td>20170521</td>\n",
       "      <td>Non Brand | Competitor | Geo</td>\n",
       "      <td>alternatives to competitor6</td>\n",
       "      <td>4.00</td>\n",
       "      <td>0</td>\n",
       "      <td>0.00</td>\n",
       "      <td>1</td>\n",
       "      <td>0.00</td>\n",
       "      <td>0.000000</td>\n",
       "      <td>0</td>\n",
       "      <td>6</td>\n",
       "      <td>7</td>\n",
       "      <td>8</td>\n",
       "      <td>2</td>\n",
       "      <td>0</td>\n",
       "      <td>1</td>\n",
       "      <td>0</td>\n",
       "      <td>0</td>\n",
       "      <td>1</td>\n",
       "      <td>7</td>\n",
       "      <td>competitors2678 aerosol uses &amp; alternatives</td>\n",
       "    </tr>\n",
       "    <tr>\n",
       "      <th>8</th>\n",
       "      <td>8</td>\n",
       "      <td>20170521</td>\n",
       "      <td>Non Brand | Product | Geo</td>\n",
       "      <td>best inhaler for asthma</td>\n",
       "      <td>3.31</td>\n",
       "      <td>0</td>\n",
       "      <td>0.00</td>\n",
       "      <td>7</td>\n",
       "      <td>0.00</td>\n",
       "      <td>0.000000</td>\n",
       "      <td>0</td>\n",
       "      <td>7</td>\n",
       "      <td>7</td>\n",
       "      <td>9</td>\n",
       "      <td>2</td>\n",
       "      <td>0</td>\n",
       "      <td>1</td>\n",
       "      <td>0</td>\n",
       "      <td>0</td>\n",
       "      <td>1</td>\n",
       "      <td>3</td>\n",
       "      <td>asthma inhaler brands, uses &amp; side effects</td>\n",
       "    </tr>\n",
       "    <tr>\n",
       "      <th>9</th>\n",
       "      <td>9</td>\n",
       "      <td>20170521</td>\n",
       "      <td>Non Brand | Product | Geo</td>\n",
       "      <td>asthmatic inhalers</td>\n",
       "      <td>4.00</td>\n",
       "      <td>0</td>\n",
       "      <td>0.00</td>\n",
       "      <td>3</td>\n",
       "      <td>0.00</td>\n",
       "      <td>0.000000</td>\n",
       "      <td>0</td>\n",
       "      <td>7</td>\n",
       "      <td>7</td>\n",
       "      <td>10</td>\n",
       "      <td>2</td>\n",
       "      <td>0</td>\n",
       "      <td>1</td>\n",
       "      <td>0</td>\n",
       "      <td>0</td>\n",
       "      <td>1</td>\n",
       "      <td>16</td>\n",
       "      <td>asthma inhalers types, uses &amp; side effects</td>\n",
       "    </tr>\n",
       "  </tbody>\n",
       "</table>\n",
       "</div>"
      ],
      "text/plain": [
       "   Unnamed: 0   DATE_ID                          CAMPAIGN  \\\n",
       "0           0  20170521       Non Brand | Condition | Geo   \n",
       "1           1  20170521                             Brand   \n",
       "2           2  20170521  Non Brand | Treatment | National   \n",
       "3           3  20170521            Non Brand | Info | Geo   \n",
       "4           4  20170521       Non Brand | Condition | Geo   \n",
       "5           5  20170521       Non Brand | Treatment | Geo   \n",
       "6           6  20170521       Non Brand | Condition | Geo   \n",
       "7           7  20170521      Non Brand | Competitor | Geo   \n",
       "8           8  20170521         Non Brand | Product | Geo   \n",
       "9           9  20170521         Non Brand | Product | Geo   \n",
       "\n",
       "                         KEYWORD  _POSITION  CLICKS   CPC  IMPRESSIONS  \\\n",
       "0             symptoms of asthma       2.08       3  1.80           51   \n",
       "1                product1 spacer       1.00       0  0.00            2   \n",
       "2          how to prevent asthma       1.48       0  0.00            4   \n",
       "3             facts about asthma       0.00       0  0.00            0   \n",
       "4    asthma symptoms in children       0.00       0  0.00            0   \n",
       "5  how to reduce asthma symptoms       2.00       0  0.00            1   \n",
       "6          breathing with asthma       2.00       1  3.71            4   \n",
       "7    alternatives to competitor6       4.00       0  0.00            1   \n",
       "8        best inhaler for asthma       3.31       0  0.00            7   \n",
       "9             asthmatic inhalers       4.00       0  0.00            3   \n",
       "\n",
       "   MEDIA_COST       CTR  Flag  CAMP_ID  week  KW_ID  Q  NETWORK_Bing  \\\n",
       "0        5.40  0.058824     1        1     7      1  2             0   \n",
       "1        0.00  0.000000     0        2     7      2  2             0   \n",
       "2        0.00  0.000000     0        3     7      3  2             0   \n",
       "3        0.00  0.000000     0        4     7      4  2             1   \n",
       "4        0.00  0.000000     0        1     7      5  2             1   \n",
       "5        0.00  0.000000     0        5     7      6  2             0   \n",
       "6        3.71  0.250000     1        1     7      7  2             0   \n",
       "7        0.00  0.000000     0        6     7      8  2             0   \n",
       "8        0.00  0.000000     0        7     7      9  2             0   \n",
       "9        0.00  0.000000     0        7     7     10  2             0   \n",
       "\n",
       "   NETWORK_Google  NETWORK_Yahoo  CAMPAIGN_TYPE_Branded  \\\n",
       "0               1              0                      0   \n",
       "1               1              0                      1   \n",
       "2               1              0                      0   \n",
       "3               0              0                      0   \n",
       "4               0              0                      0   \n",
       "5               1              0                      0   \n",
       "6               1              0                      0   \n",
       "7               1              0                      0   \n",
       "8               1              0                      0   \n",
       "9               1              0                      0   \n",
       "\n",
       "   CAMPAIGN_TYPE_Unbranded  cluster_assignment  \\\n",
       "0                        1                  13   \n",
       "1                        0                   1   \n",
       "2                        1                   2   \n",
       "3                        1                   2   \n",
       "4                        1                  19   \n",
       "5                        1                  13   \n",
       "6                        1                   0   \n",
       "7                        1                   7   \n",
       "8                        1                   3   \n",
       "9                        1                  16   \n",
       "\n",
       "                                        cluster_name  \n",
       "0                         asthma symptoms and causes  \n",
       "1  product1 inhaler/spacer uses, coupons & instru...  \n",
       "2  asthma facts, causes, prevention & relief/control  \n",
       "3  asthma facts, causes, prevention & relief/control  \n",
       "4               asthma symptoms & causes in children  \n",
       "5                         asthma symptoms and causes  \n",
       "6              asthma breathing problems & exercises  \n",
       "7        competitors2678 aerosol uses & alternatives  \n",
       "8         asthma inhaler brands, uses & side effects  \n",
       "9         asthma inhalers types, uses & side effects  "
      ]
     },
     "execution_count": 4,
     "metadata": {},
     "output_type": "execute_result"
    }
   ],
   "source": [
    "df.head(10)"
   ]
  },
  {
   "cell_type": "code",
   "execution_count": 5,
   "metadata": {},
   "outputs": [],
   "source": [
    "df = df.drop([\"Unnamed: 0\"], axis=1)"
   ]
  },
  {
   "cell_type": "markdown",
   "metadata": {},
   "source": [
    "#### Review top 100 keywords"
   ]
  },
  {
   "cell_type": "code",
   "execution_count": 6,
   "metadata": {},
   "outputs": [
    {
     "data": {
      "text/plain": [
       "2     151908\n",
       "1      79673\n",
       "7      50385\n",
       "13     23306\n",
       "4      21735\n",
       "8      17398\n",
       "3      17150\n",
       "16     16642\n",
       "5      13064\n",
       "19     12694\n",
       "11     11936\n",
       "14     10690\n",
       "9       9383\n",
       "15      9031\n",
       "17      8834\n",
       "12      8783\n",
       "0       8396\n",
       "6       6401\n",
       "10      6158\n",
       "18      5200\n",
       "Name: cluster_assignment, dtype: int64"
      ]
     },
     "execution_count": 6,
     "metadata": {},
     "output_type": "execute_result"
    }
   ],
   "source": [
    "df.cluster_assignment.value_counts()"
   ]
  },
  {
   "cell_type": "code",
   "execution_count": 7,
   "metadata": {},
   "outputs": [
    {
     "data": {
      "text/plain": [
       "[('asthma inhalers', 1771),\n",
       " ('asthma medications', 1725),\n",
       " ('inhalers for asthma', 1713),\n",
       " ('asthma relief', 1688),\n",
       " ('asthma symptoms', 1678),\n",
       " ('asthma medication', 1644),\n",
       " ('asthma coughing', 1618),\n",
       " ('asthma action plan', 1614),\n",
       " ('asthma symptom', 1605),\n",
       " ('what is asthma', 1601),\n",
       " ('symptoms of asthma', 1598),\n",
       " ('asthma inhaler', 1597),\n",
       " ('asthma medicine', 1581),\n",
       " ('asthma treatment', 1577),\n",
       " ('help asthma', 1551),\n",
       " ('asthma medicines', 1539),\n",
       " ('competitor5 inhaler', 1489),\n",
       " ('asthma triggers', 1481),\n",
       " ('competitor6 inhaler', 1477),\n",
       " ('what causes asthma', 1476),\n",
       " ('asthma control', 1466),\n",
       " ('treatment for asthma', 1444),\n",
       " ('over the counter asthma inhalers', 1443),\n",
       " ('medicine for asthma', 1433),\n",
       " ('asthma treatments', 1430),\n",
       " ('cause asthma', 1430),\n",
       " ('how to treat asthma', 1427),\n",
       " ('help with asthma', 1420),\n",
       " ('symptom of asthma', 1406),\n",
       " ('inhalation aerosol', 1401),\n",
       " ('asthma prevention', 1389),\n",
       " ('signs of asthma', 1376),\n",
       " ('medications for asthma', 1369),\n",
       " ('product1', 1364),\n",
       " ('inhaler for asthma', 1359),\n",
       " ('competitor2 inhaler', 1358),\n",
       " ('competitor8', 1349),\n",
       " ('treatment of asthma', 1346),\n",
       " ('asthma management', 1346),\n",
       " ('asthma causes', 1345),\n",
       " ('treating asthma', 1341),\n",
       " ('competitor5 coupon', 1341),\n",
       " ('causes of asthma', 1339),\n",
       " ('competitor1', 1332),\n",
       " ('competitor7 coupon', 1316),\n",
       " ('asthma inhaler brands', 1303),\n",
       " ('childhood asthma', 1301),\n",
       " ('treat asthma', 1299),\n",
       " ('asthma symptoms in adults', 1296),\n",
       " ('product1 coupon', 1291),\n",
       " ('competitor5 side effects', 1287),\n",
       " ('medication for asthma', 1285),\n",
       " ('corticosteroid side effects', 1284),\n",
       " ('competitor2', 1284),\n",
       " ('asthma patient', 1281),\n",
       " ('asthma in children', 1272),\n",
       " ('treatments for asthma', 1256),\n",
       " ('competitor1 inhaler', 1237),\n",
       " ('competitor6 side effects', 1225),\n",
       " ('asthma cause', 1223),\n",
       " ('competitor1 hfa', 1217),\n",
       " ('how to prevent asthma', 1213),\n",
       " ('competitor7 side effects', 1210),\n",
       " ('how to control asthma', 1199),\n",
       " ('about asthma', 1186),\n",
       " ('competitor1 diskus', 1182),\n",
       " ('control asthma', 1178),\n",
       " ('asthmatic symptoms', 1171),\n",
       " ('competitor7 inhaler', 1161),\n",
       " ('relieve asthma', 1160),\n",
       " ('new asthma medications', 1159),\n",
       " ('asthma in adults', 1157),\n",
       " ('managing asthma', 1157),\n",
       " ('type of asthma', 1152),\n",
       " ('kids with asthma', 1143),\n",
       " ('persistent asthma', 1141),\n",
       " ('types of asthma inhalers', 1139),\n",
       " ('controlling asthma', 1134),\n",
       " ('product1 80', 1131),\n",
       " ('children symptoms', 1128),\n",
       " ('product1 80 mcg', 1127),\n",
       " ('competitor6 coupon', 1122),\n",
       " ('over the counter asthma medications', 1121),\n",
       " ('preventing asthma', 1120),\n",
       " ('asthma flare', 1119),\n",
       " ('beclomethasone inhaler', 1112),\n",
       " ('asthma diagnosis', 1094),\n",
       " ('competitor5 hfa', 1088),\n",
       " ('asthma breathing', 1086),\n",
       " ('asthma education', 1080),\n",
       " ('asthma steroids', 1071),\n",
       " ('competitor7 dosage', 1066),\n",
       " ('competitor1 side effects', 1064),\n",
       " ('asthma action plans', 1054),\n",
       " ('asthma inhalation', 1043),\n",
       " ('best asthma inhaler', 1029),\n",
       " ('competitor8 inhaler', 1029),\n",
       " ('asthma trigger', 1028),\n",
       " ('side effects of competitor5', 1027),\n",
       " ('respiratory inhaler', 1026)]"
      ]
     },
     "execution_count": 7,
     "metadata": {},
     "output_type": "execute_result"
    }
   ],
   "source": [
    "Counter(df.KEYWORD).most_common(100)"
   ]
  },
  {
   "cell_type": "markdown",
   "metadata": {},
   "source": [
    "#### Train/Test split"
   ]
  },
  {
   "cell_type": "code",
   "execution_count": 7,
   "metadata": {},
   "outputs": [
    {
     "data": {
      "text/plain": [
       "0.0    405574\n",
       "1.0     83193\n",
       "Name: Flag, dtype: int64"
      ]
     },
     "execution_count": 7,
     "metadata": {},
     "output_type": "execute_result"
    }
   ],
   "source": [
    "df.Flag.value_counts()"
   ]
  },
  {
   "cell_type": "code",
   "execution_count": 7,
   "metadata": {},
   "outputs": [],
   "source": [
    "#Remove CPC and keep media_cost\n",
    "X = df.drop(['DATE_ID','CAMPAIGN','KEYWORD','IMPRESSIONS','CTR','Flag','CLICKS','CPC','cluster_name','KW_ID'],axis=1)\n",
    "Y = df['Flag'].values"
   ]
  },
  {
   "cell_type": "code",
   "execution_count": 27,
   "metadata": {},
   "outputs": [],
   "source": [
    "#Remove media_cost and keep CPC - SIMILAR WITH THE FIRST SET\n",
    "X = df.drop(['DATE_ID','CAMPAIGN','KEYWORD','IMPRESSIONS','CTR','Flag','CLICKS','MEDIA_COST','cluster_name','KW_ID'],axis=1)\n",
    "Y = df['Flag'].values"
   ]
  },
  {
   "cell_type": "code",
   "execution_count": 46,
   "metadata": {},
   "outputs": [],
   "source": [
    "#Remove media_cost and CPC - NO\n",
    "X = df.drop(['DATE_ID','CAMPAIGN','KEYWORD','IMPRESSIONS','CTR','Flag','CLICKS','MEDIA_COST','CPC',\n",
    "             'cluster_name','KW_ID'],axis=1)\n",
    "Y = df['Flag'].values"
   ]
  },
  {
   "cell_type": "code",
   "execution_count": 8,
   "metadata": {},
   "outputs": [
    {
     "data": {
      "text/plain": [
       "0"
      ]
     },
     "execution_count": 8,
     "metadata": {},
     "output_type": "execute_result"
    }
   ],
   "source": [
    "X['CAMP_ID'].isnull().sum()"
   ]
  },
  {
   "cell_type": "code",
   "execution_count": 9,
   "metadata": {},
   "outputs": [
    {
     "data": {
      "text/plain": [
       "True"
      ]
     },
     "execution_count": 9,
     "metadata": {},
     "output_type": "execute_result"
    }
   ],
   "source": [
    "np.isfinite(Y).all()"
   ]
  },
  {
   "cell_type": "code",
   "execution_count": 8,
   "metadata": {},
   "outputs": [],
   "source": [
    "x_train, x_test, y_train, y_test = train_test_split(X, Y, test_size = 0.3, random_state=113)"
   ]
  },
  {
   "cell_type": "code",
   "execution_count": 9,
   "metadata": {},
   "outputs": [
    {
     "data": {
      "text/html": [
       "<div>\n",
       "<style scoped>\n",
       "    .dataframe tbody tr th:only-of-type {\n",
       "        vertical-align: middle;\n",
       "    }\n",
       "\n",
       "    .dataframe tbody tr th {\n",
       "        vertical-align: top;\n",
       "    }\n",
       "\n",
       "    .dataframe thead th {\n",
       "        text-align: right;\n",
       "    }\n",
       "</style>\n",
       "<table border=\"1\" class=\"dataframe\">\n",
       "  <thead>\n",
       "    <tr style=\"text-align: right;\">\n",
       "      <th></th>\n",
       "      <th>_POSITION</th>\n",
       "      <th>MEDIA_COST</th>\n",
       "      <th>CAMP_ID</th>\n",
       "      <th>week</th>\n",
       "      <th>Q</th>\n",
       "      <th>NETWORK_Bing</th>\n",
       "      <th>NETWORK_Google</th>\n",
       "      <th>NETWORK_Yahoo</th>\n",
       "      <th>CAMPAIGN_TYPE_Branded</th>\n",
       "      <th>CAMPAIGN_TYPE_Unbranded</th>\n",
       "      <th>cluster_assignment</th>\n",
       "    </tr>\n",
       "  </thead>\n",
       "  <tbody>\n",
       "    <tr>\n",
       "      <th>86300</th>\n",
       "      <td>1.43</td>\n",
       "      <td>0.0</td>\n",
       "      <td>6</td>\n",
       "      <td>3</td>\n",
       "      <td>1</td>\n",
       "      <td>1</td>\n",
       "      <td>0</td>\n",
       "      <td>0</td>\n",
       "      <td>0</td>\n",
       "      <td>1</td>\n",
       "      <td>5</td>\n",
       "    </tr>\n",
       "    <tr>\n",
       "      <th>326528</th>\n",
       "      <td>3.44</td>\n",
       "      <td>0.0</td>\n",
       "      <td>10</td>\n",
       "      <td>5</td>\n",
       "      <td>2</td>\n",
       "      <td>0</td>\n",
       "      <td>1</td>\n",
       "      <td>0</td>\n",
       "      <td>0</td>\n",
       "      <td>1</td>\n",
       "      <td>2</td>\n",
       "    </tr>\n",
       "    <tr>\n",
       "      <th>2295</th>\n",
       "      <td>6.00</td>\n",
       "      <td>0.0</td>\n",
       "      <td>7</td>\n",
       "      <td>5</td>\n",
       "      <td>2</td>\n",
       "      <td>1</td>\n",
       "      <td>0</td>\n",
       "      <td>0</td>\n",
       "      <td>0</td>\n",
       "      <td>1</td>\n",
       "      <td>16</td>\n",
       "    </tr>\n",
       "    <tr>\n",
       "      <th>373315</th>\n",
       "      <td>3.00</td>\n",
       "      <td>0.0</td>\n",
       "      <td>9</td>\n",
       "      <td>2</td>\n",
       "      <td>2</td>\n",
       "      <td>0</td>\n",
       "      <td>1</td>\n",
       "      <td>0</td>\n",
       "      <td>0</td>\n",
       "      <td>1</td>\n",
       "      <td>9</td>\n",
       "    </tr>\n",
       "    <tr>\n",
       "      <th>181833</th>\n",
       "      <td>3.25</td>\n",
       "      <td>0.0</td>\n",
       "      <td>4</td>\n",
       "      <td>2</td>\n",
       "      <td>4</td>\n",
       "      <td>0</td>\n",
       "      <td>1</td>\n",
       "      <td>0</td>\n",
       "      <td>0</td>\n",
       "      <td>1</td>\n",
       "      <td>2</td>\n",
       "    </tr>\n",
       "  </tbody>\n",
       "</table>\n",
       "</div>"
      ],
      "text/plain": [
       "        _POSITION  MEDIA_COST  CAMP_ID  week  Q  NETWORK_Bing  NETWORK_Google  \\\n",
       "86300        1.43         0.0        6     3  1             1               0   \n",
       "326528       3.44         0.0       10     5  2             0               1   \n",
       "2295         6.00         0.0        7     5  2             1               0   \n",
       "373315       3.00         0.0        9     2  2             0               1   \n",
       "181833       3.25         0.0        4     2  4             0               1   \n",
       "\n",
       "        NETWORK_Yahoo  CAMPAIGN_TYPE_Branded  CAMPAIGN_TYPE_Unbranded  \\\n",
       "86300               0                      0                        1   \n",
       "326528              0                      0                        1   \n",
       "2295                0                      0                        1   \n",
       "373315              0                      0                        1   \n",
       "181833              0                      0                        1   \n",
       "\n",
       "        cluster_assignment  \n",
       "86300                    5  \n",
       "326528                   2  \n",
       "2295                    16  \n",
       "373315                   9  \n",
       "181833                   2  "
      ]
     },
     "execution_count": 9,
     "metadata": {},
     "output_type": "execute_result"
    }
   ],
   "source": [
    "x_train.head()"
   ]
  },
  {
   "cell_type": "markdown",
   "metadata": {},
   "source": [
    "#### Random Forest Classifier predicting CTR Flag"
   ]
  },
  {
   "cell_type": "code",
   "execution_count": 11,
   "metadata": {},
   "outputs": [],
   "source": [
    "clf = RandomForestClassifier(max_depth=15, random_state=114)"
   ]
  },
  {
   "cell_type": "code",
   "execution_count": 12,
   "metadata": {},
   "outputs": [
    {
     "data": {
      "text/plain": [
       "RandomForestClassifier(max_depth=15, random_state=114)"
      ]
     },
     "execution_count": 12,
     "metadata": {},
     "output_type": "execute_result"
    }
   ],
   "source": [
    "clf.fit(x_train, y_train)"
   ]
  },
  {
   "cell_type": "code",
   "execution_count": 13,
   "metadata": {},
   "outputs": [],
   "source": [
    "y_pred_class = clf.predict(x_test)"
   ]
  },
  {
   "cell_type": "code",
   "execution_count": 14,
   "metadata": {},
   "outputs": [],
   "source": [
    "y_pred_prob = clf.predict_proba(x_test)[:,1]"
   ]
  },
  {
   "cell_type": "code",
   "execution_count": 15,
   "metadata": {},
   "outputs": [],
   "source": [
    "importances = clf.feature_importances_"
   ]
  },
  {
   "cell_type": "code",
   "execution_count": 16,
   "metadata": {},
   "outputs": [],
   "source": [
    "indices = np.argsort(importances)[::-1]"
   ]
  },
  {
   "cell_type": "code",
   "execution_count": 17,
   "metadata": {},
   "outputs": [
    {
     "name": "stdout",
     "output_type": "stream",
     "text": [
      "1. feature MEDIA_COST (0.914652)\n",
      "2. feature _POSITION (0.036148)\n",
      "3. feature cluster_assignment (0.014355)\n",
      "4. feature CAMP_ID (0.010735)\n",
      "5. feature CAMPAIGN_TYPE_Branded (0.006827)\n",
      "6. feature CAMPAIGN_TYPE_Unbranded (0.005966)\n",
      "7. feature Q (0.004315)\n",
      "8. feature week (0.004051)\n",
      "9. feature NETWORK_Bing (0.001508)\n",
      "10. feature NETWORK_Google (0.001388)\n",
      "11. feature NETWORK_Yahoo (0.000058)\n"
     ]
    }
   ],
   "source": [
    "for f in range(X.shape[1]):\n",
    "    print(\"%d. feature %s (%f)\" % (f + 1, X.columns[indices[f]], importances[indices[f]]))"
   ]
  },
  {
   "cell_type": "code",
   "execution_count": 18,
   "metadata": {},
   "outputs": [
    {
     "data": {
      "image/png": "[encoded data removed]",
      "text/plain": [
       "<Figure size 432x288 with 1 Axes>"
      ]
     },
     "metadata": {
      "needs_background": "light"
     },
     "output_type": "display_data"
    }
   ],
   "source": [
    "import matplotlib.pyplot as plt\n",
    "\n",
    "importances_df = pd.Series(clf.feature_importances_,\n",
    "index = X.columns)\n",
    "# Sort importances_rf\n",
    "sorted_importances_df = importances_df.sort_values()\n",
    "# Make a horizontal bar plot\n",
    "sorted_importances_df.plot(kind='barh', color='blue')\n",
    "plt.show()"
   ]
  },
  {
   "cell_type": "code",
   "execution_count": 19,
   "metadata": {},
   "outputs": [
    {
     "name": "stdout",
     "output_type": "stream",
     "text": [
      "              precision    recall  f1-score   support\n",
      "\n",
      "           0       1.00      0.98      0.99    121744\n",
      "           1       0.91      0.99      0.95     24887\n",
      "\n",
      "    accuracy                           0.98    146631\n",
      "   macro avg       0.95      0.98      0.97    146631\n",
      "weighted avg       0.98      0.98      0.98    146631\n",
      "\n"
     ]
    }
   ],
   "source": [
    "from sklearn import metrics\n",
    "print(metrics.classification_report(y_test, y_pred_class))"
   ]
  },
  {
   "cell_type": "code",
   "execution_count": 20,
   "metadata": {},
   "outputs": [
    {
     "data": {
      "text/plain": [
       "array([[119257,   2487],\n",
       "       [   336,  24551]], dtype=int64)"
      ]
     },
     "execution_count": 20,
     "metadata": {},
     "output_type": "execute_result"
    }
   ],
   "source": [
    "metrics.confusion_matrix(y_test, y_pred_class)"
   ]
  },
  {
   "cell_type": "code",
   "execution_count": 21,
   "metadata": {},
   "outputs": [
    {
     "data": {
      "text/plain": [
       "0.9807475908914213"
      ]
     },
     "execution_count": 21,
     "metadata": {},
     "output_type": "execute_result"
    }
   ],
   "source": [
    "metrics.accuracy_score(y_test, y_pred_class)"
   ]
  },
  {
   "cell_type": "code",
   "execution_count": 22,
   "metadata": {},
   "outputs": [
    {
     "data": {
      "text/plain": [
       "0.9968659033733247"
      ]
     },
     "execution_count": 22,
     "metadata": {},
     "output_type": "execute_result"
    }
   ],
   "source": [
    "sk.metrics.roc_auc_score(y_test, y_pred_prob)"
   ]
  },
  {
   "cell_type": "code",
   "execution_count": 23,
   "metadata": {},
   "outputs": [
    {
     "name": "stdout",
     "output_type": "stream",
     "text": [
      "              precision    recall  f1-score   support\n",
      "\n",
      "           0       1.00      0.98      0.99    283830\n",
      "           1       0.93      0.99      0.96     58306\n",
      "\n",
      "    accuracy                           0.99    342136\n",
      "   macro avg       0.96      0.99      0.98    342136\n",
      "weighted avg       0.99      0.99      0.99    342136\n",
      "\n"
     ]
    }
   ],
   "source": [
    "y_pred_train = clf.predict(x_train)\n",
    "\n",
    "print(metrics.classification_report(y_train, y_pred_train))"
   ]
  },
  {
   "cell_type": "code",
   "execution_count": 24,
   "metadata": {},
   "outputs": [],
   "source": [
    "false_positive_rate, true_positive_rate, threshold = sk.metrics.roc_curve(y_test, y_pred_prob)"
   ]
  },
  {
   "cell_type": "code",
   "execution_count": 25,
   "metadata": {},
   "outputs": [
    {
     "data": {
      "image/png": "[encoded data removed]",
      "text/plain": [
       "<Figure size 432x288 with 1 Axes>"
      ]
     },
     "metadata": {
      "needs_background": "light"
     },
     "output_type": "display_data"
    }
   ],
   "source": [
    "plt.title('ROC curve')\n",
    "plt.plot(false_positive_rate, true_positive_rate, color='b', ls='--')\n",
    "plt.ylabel('true_positive_rate')\n",
    "plt.xlabel('false_positive_rate')\n",
    "plt.show()"
   ]
  },
  {
   "cell_type": "code",
   "execution_count": 26,
   "metadata": {},
   "outputs": [],
   "source": [
    "Y_clf = clf.predict(X)"
   ]
  },
  {
   "cell_type": "code",
   "execution_count": 27,
   "metadata": {},
   "outputs": [],
   "source": [
    "df0 = pd.read_csv('V4.csv')"
   ]
  },
  {
   "cell_type": "code",
   "execution_count": 28,
   "metadata": {},
   "outputs": [],
   "source": [
    "df0['RF_classsifier_prediction'] = Y_clf"
   ]
  },
  {
   "cell_type": "code",
   "execution_count": 29,
   "metadata": {},
   "outputs": [
    {
     "data": {
      "text/html": [
       "<div>\n",
       "<style scoped>\n",
       "    .dataframe tbody tr th:only-of-type {\n",
       "        vertical-align: middle;\n",
       "    }\n",
       "\n",
       "    .dataframe tbody tr th {\n",
       "        vertical-align: top;\n",
       "    }\n",
       "\n",
       "    .dataframe thead th {\n",
       "        text-align: right;\n",
       "    }\n",
       "</style>\n",
       "<table border=\"1\" class=\"dataframe\">\n",
       "  <thead>\n",
       "    <tr style=\"text-align: right;\">\n",
       "      <th></th>\n",
       "      <th>Unnamed: 0</th>\n",
       "      <th>DATE_ID</th>\n",
       "      <th>CAMPAIGN</th>\n",
       "      <th>KEYWORD</th>\n",
       "      <th>_POSITION</th>\n",
       "      <th>CLICKS</th>\n",
       "      <th>CPC</th>\n",
       "      <th>IMPRESSIONS</th>\n",
       "      <th>MEDIA_COST</th>\n",
       "      <th>CTR</th>\n",
       "      <th>Flag</th>\n",
       "      <th>CAMP_ID</th>\n",
       "      <th>week</th>\n",
       "      <th>KW_ID</th>\n",
       "      <th>Q</th>\n",
       "      <th>NETWORK_Bing</th>\n",
       "      <th>NETWORK_Google</th>\n",
       "      <th>NETWORK_Yahoo</th>\n",
       "      <th>CAMPAIGN_TYPE_Branded</th>\n",
       "      <th>CAMPAIGN_TYPE_Unbranded</th>\n",
       "      <th>cluster_assignment</th>\n",
       "      <th>cluster_name</th>\n",
       "      <th>RF_classsifier_prediction</th>\n",
       "    </tr>\n",
       "  </thead>\n",
       "  <tbody>\n",
       "    <tr>\n",
       "      <th>0</th>\n",
       "      <td>0</td>\n",
       "      <td>20170521</td>\n",
       "      <td>Non Brand | Condition | Geo</td>\n",
       "      <td>symptoms of asthma</td>\n",
       "      <td>2.08</td>\n",
       "      <td>3</td>\n",
       "      <td>1.8</td>\n",
       "      <td>51</td>\n",
       "      <td>5.4</td>\n",
       "      <td>0.058824</td>\n",
       "      <td>1</td>\n",
       "      <td>1</td>\n",
       "      <td>7</td>\n",
       "      <td>1</td>\n",
       "      <td>2</td>\n",
       "      <td>0</td>\n",
       "      <td>1</td>\n",
       "      <td>0</td>\n",
       "      <td>0</td>\n",
       "      <td>1</td>\n",
       "      <td>13</td>\n",
       "      <td>asthma symptoms and causes</td>\n",
       "      <td>1</td>\n",
       "    </tr>\n",
       "    <tr>\n",
       "      <th>1</th>\n",
       "      <td>1</td>\n",
       "      <td>20170521</td>\n",
       "      <td>Brand</td>\n",
       "      <td>product1 spacer</td>\n",
       "      <td>1.00</td>\n",
       "      <td>0</td>\n",
       "      <td>0.0</td>\n",
       "      <td>2</td>\n",
       "      <td>0.0</td>\n",
       "      <td>0.000000</td>\n",
       "      <td>0</td>\n",
       "      <td>2</td>\n",
       "      <td>7</td>\n",
       "      <td>2</td>\n",
       "      <td>2</td>\n",
       "      <td>0</td>\n",
       "      <td>1</td>\n",
       "      <td>0</td>\n",
       "      <td>1</td>\n",
       "      <td>0</td>\n",
       "      <td>1</td>\n",
       "      <td>product1 inhaler/spacer uses, coupons &amp; instru...</td>\n",
       "      <td>0</td>\n",
       "    </tr>\n",
       "    <tr>\n",
       "      <th>2</th>\n",
       "      <td>2</td>\n",
       "      <td>20170521</td>\n",
       "      <td>Non Brand | Treatment | National</td>\n",
       "      <td>how to prevent asthma</td>\n",
       "      <td>1.48</td>\n",
       "      <td>0</td>\n",
       "      <td>0.0</td>\n",
       "      <td>4</td>\n",
       "      <td>0.0</td>\n",
       "      <td>0.000000</td>\n",
       "      <td>0</td>\n",
       "      <td>3</td>\n",
       "      <td>7</td>\n",
       "      <td>3</td>\n",
       "      <td>2</td>\n",
       "      <td>0</td>\n",
       "      <td>1</td>\n",
       "      <td>0</td>\n",
       "      <td>0</td>\n",
       "      <td>1</td>\n",
       "      <td>2</td>\n",
       "      <td>asthma facts, causes, prevention &amp; relief/control</td>\n",
       "      <td>0</td>\n",
       "    </tr>\n",
       "    <tr>\n",
       "      <th>3</th>\n",
       "      <td>3</td>\n",
       "      <td>20170521</td>\n",
       "      <td>Non Brand | Info | Geo</td>\n",
       "      <td>facts about asthma</td>\n",
       "      <td>0.00</td>\n",
       "      <td>0</td>\n",
       "      <td>0.0</td>\n",
       "      <td>0</td>\n",
       "      <td>0.0</td>\n",
       "      <td>0.000000</td>\n",
       "      <td>0</td>\n",
       "      <td>4</td>\n",
       "      <td>7</td>\n",
       "      <td>4</td>\n",
       "      <td>2</td>\n",
       "      <td>1</td>\n",
       "      <td>0</td>\n",
       "      <td>0</td>\n",
       "      <td>0</td>\n",
       "      <td>1</td>\n",
       "      <td>2</td>\n",
       "      <td>asthma facts, causes, prevention &amp; relief/control</td>\n",
       "      <td>0</td>\n",
       "    </tr>\n",
       "    <tr>\n",
       "      <th>4</th>\n",
       "      <td>4</td>\n",
       "      <td>20170521</td>\n",
       "      <td>Non Brand | Condition | Geo</td>\n",
       "      <td>asthma symptoms in children</td>\n",
       "      <td>0.00</td>\n",
       "      <td>0</td>\n",
       "      <td>0.0</td>\n",
       "      <td>0</td>\n",
       "      <td>0.0</td>\n",
       "      <td>0.000000</td>\n",
       "      <td>0</td>\n",
       "      <td>1</td>\n",
       "      <td>7</td>\n",
       "      <td>5</td>\n",
       "      <td>2</td>\n",
       "      <td>1</td>\n",
       "      <td>0</td>\n",
       "      <td>0</td>\n",
       "      <td>0</td>\n",
       "      <td>1</td>\n",
       "      <td>19</td>\n",
       "      <td>asthma symptoms &amp; causes in children</td>\n",
       "      <td>0</td>\n",
       "    </tr>\n",
       "  </tbody>\n",
       "</table>\n",
       "</div>"
      ],
      "text/plain": [
       "   Unnamed: 0   DATE_ID                          CAMPAIGN  \\\n",
       "0           0  20170521       Non Brand | Condition | Geo   \n",
       "1           1  20170521                             Brand   \n",
       "2           2  20170521  Non Brand | Treatment | National   \n",
       "3           3  20170521            Non Brand | Info | Geo   \n",
       "4           4  20170521       Non Brand | Condition | Geo   \n",
       "\n",
       "                       KEYWORD  _POSITION  CLICKS  CPC  IMPRESSIONS  \\\n",
       "0           symptoms of asthma       2.08       3  1.8           51   \n",
       "1              product1 spacer       1.00       0  0.0            2   \n",
       "2        how to prevent asthma       1.48       0  0.0            4   \n",
       "3           facts about asthma       0.00       0  0.0            0   \n",
       "4  asthma symptoms in children       0.00       0  0.0            0   \n",
       "\n",
       "   MEDIA_COST       CTR  Flag  CAMP_ID  week  KW_ID  Q  NETWORK_Bing  \\\n",
       "0         5.4  0.058824     1        1     7      1  2             0   \n",
       "1         0.0  0.000000     0        2     7      2  2             0   \n",
       "2         0.0  0.000000     0        3     7      3  2             0   \n",
       "3         0.0  0.000000     0        4     7      4  2             1   \n",
       "4         0.0  0.000000     0        1     7      5  2             1   \n",
       "\n",
       "   NETWORK_Google  NETWORK_Yahoo  CAMPAIGN_TYPE_Branded  \\\n",
       "0               1              0                      0   \n",
       "1               1              0                      1   \n",
       "2               1              0                      0   \n",
       "3               0              0                      0   \n",
       "4               0              0                      0   \n",
       "\n",
       "   CAMPAIGN_TYPE_Unbranded  cluster_assignment  \\\n",
       "0                        1                  13   \n",
       "1                        0                   1   \n",
       "2                        1                   2   \n",
       "3                        1                   2   \n",
       "4                        1                  19   \n",
       "\n",
       "                                        cluster_name  \\\n",
       "0                         asthma symptoms and causes   \n",
       "1  product1 inhaler/spacer uses, coupons & instru...   \n",
       "2  asthma facts, causes, prevention & relief/control   \n",
       "3  asthma facts, causes, prevention & relief/control   \n",
       "4               asthma symptoms & causes in children   \n",
       "\n",
       "   RF_classsifier_prediction  \n",
       "0                          1  \n",
       "1                          0  \n",
       "2                          0  \n",
       "3                          0  \n",
       "4                          0  "
      ]
     },
     "execution_count": 29,
     "metadata": {},
     "output_type": "execute_result"
    }
   ],
   "source": [
    "df0.head()"
   ]
  },
  {
   "cell_type": "markdown",
   "metadata": {},
   "source": [
    "#### XGboost Classifier predicting CTR Flag"
   ]
  },
  {
   "cell_type": "code",
   "execution_count": 30,
   "metadata": {},
   "outputs": [],
   "source": [
    "param_grid = {\"n_estimators\":[i*10 for i in range(5,50)], \"learning_rate\": [i*0.1 for i in range(1,18)], \n",
    "              \"max_depth\": [3,4,5], \"gamma\": [i*0.2 for i in range(1,30)]}"
   ]
  },
  {
   "cell_type": "code",
   "execution_count": 31,
   "metadata": {},
   "outputs": [],
   "source": [
    "from xgboost import XGBClassifier"
   ]
  },
  {
   "cell_type": "code",
   "execution_count": 32,
   "metadata": {},
   "outputs": [],
   "source": [
    "bst = XGBClassifier(random_state=243)"
   ]
  },
  {
   "cell_type": "code",
   "execution_count": 33,
   "metadata": {},
   "outputs": [],
   "source": [
    "bst_Grid = sk.model_selection.RandomizedSearchCV(bst, param_grid, cv = 5, scoring = 'roc_auc', n_jobs = -1, verbose = 5)"
   ]
  },
  {
   "cell_type": "code",
   "execution_count": 34,
   "metadata": {},
   "outputs": [
    {
     "name": "stderr",
     "output_type": "stream",
     "text": [
      "C:\\Users\\zjx04\\anaconda3\\lib\\site-packages\\pandas\\core\\generic.py:5303: SettingWithCopyWarning: \n",
      "A value is trying to be set on a copy of a slice from a DataFrame.\n",
      "Try using .loc[row_indexer,col_indexer] = value instead\n",
      "\n",
      "See the caveats in the documentation: https://pandas.pydata.org/pandas-docs/stable/user_guide/indexing.html#returning-a-view-versus-a-copy\n",
      "  self[name] = value\n"
     ]
    }
   ],
   "source": [
    "#x_train.KW_ID = pd.to_numeric(x_train.KW_ID)\n",
    "x_train.CAMP_ID = pd.to_numeric(x_train.CAMP_ID)\n",
    "#x_train.KW_ID.dtype, x_train.CAMP_ID.dtype"
   ]
  },
  {
   "cell_type": "code",
   "execution_count": 35,
   "metadata": {},
   "outputs": [
    {
     "name": "stdout",
     "output_type": "stream",
     "text": [
      "Fitting 5 folds for each of 10 candidates, totalling 50 fits\n"
     ]
    },
    {
     "name": "stderr",
     "output_type": "stream",
     "text": [
      "[Parallel(n_jobs=-1)]: Using backend LokyBackend with 4 concurrent workers.\n",
      "[Parallel(n_jobs=-1)]: Done  10 tasks      | elapsed:  5.4min\n",
      "[Parallel(n_jobs=-1)]: Done  50 out of  50 | elapsed: 18.9min finished\n"
     ]
    },
    {
     "data": {
      "text/plain": [
       "RandomizedSearchCV(cv=5,\n",
       "                   estimator=XGBClassifier(base_score=None, booster=None,\n",
       "                                           colsample_bylevel=None,\n",
       "                                           colsample_bynode=None,\n",
       "                                           colsample_bytree=None, gamma=None,\n",
       "                                           gpu_id=None, importance_type='gain',\n",
       "                                           interaction_constraints=None,\n",
       "                                           learning_rate=None,\n",
       "                                           max_delta_step=None, max_depth=None,\n",
       "                                           min_child_weight=None, missing=nan,\n",
       "                                           monotone_constraints=None,\n",
       "                                           n_estimators=100,...\n",
       "                                        'learning_rate': [0.1, 0.2,\n",
       "                                                          0.30000000000000004,\n",
       "                                                          0.4, 0.5,\n",
       "                                                          0.6000000000000001,\n",
       "                                                          0.7000000000000001,\n",
       "                                                          0.8, 0.9, 1.0, 1.1,\n",
       "                                                          1.2000000000000002,\n",
       "                                                          1.3,\n",
       "                                                          1.4000000000000001,\n",
       "                                                          1.5, 1.6,\n",
       "                                                          1.7000000000000002],\n",
       "                                        'max_depth': [3, 4, 5],\n",
       "                                        'n_estimators': [50, 60, 70, 80, 90,\n",
       "                                                         100, 110, 120, 130,\n",
       "                                                         140, 150, 160, 170,\n",
       "                                                         180, 190, 200, 210,\n",
       "                                                         220, 230, 240, 250,\n",
       "                                                         260, 270, 280, 290,\n",
       "                                                         300, 310, 320, 330,\n",
       "                                                         340, ...]},\n",
       "                   scoring='roc_auc', verbose=5)"
      ]
     },
     "execution_count": 35,
     "metadata": {},
     "output_type": "execute_result"
    }
   ],
   "source": [
    "bst_Grid.fit(x_train, y_train)"
   ]
  },
  {
   "cell_type": "code",
   "execution_count": 36,
   "metadata": {},
   "outputs": [
    {
     "data": {
      "text/plain": [
       "{'n_estimators': 410, 'max_depth': 4, 'learning_rate': 0.4, 'gamma': 1.8}"
      ]
     },
     "execution_count": 36,
     "metadata": {},
     "output_type": "execute_result"
    }
   ],
   "source": [
    "bst_Grid.best_params_"
   ]
  },
  {
   "cell_type": "code",
   "execution_count": 37,
   "metadata": {},
   "outputs": [
    {
     "name": "stderr",
     "output_type": "stream",
     "text": [
      "C:\\Users\\zjx04\\anaconda3\\lib\\site-packages\\pandas\\core\\generic.py:5303: SettingWithCopyWarning: \n",
      "A value is trying to be set on a copy of a slice from a DataFrame.\n",
      "Try using .loc[row_indexer,col_indexer] = value instead\n",
      "\n",
      "See the caveats in the documentation: https://pandas.pydata.org/pandas-docs/stable/user_guide/indexing.html#returning-a-view-versus-a-copy\n",
      "  self[name] = value\n"
     ]
    }
   ],
   "source": [
    "#x_test.KW_ID = pd.to_numeric(x_test.KW_ID)\n",
    "x_test.CAMP_ID = pd.to_numeric(x_test.CAMP_ID)"
   ]
  },
  {
   "cell_type": "code",
   "execution_count": 38,
   "metadata": {},
   "outputs": [],
   "source": [
    "y_pred_xg = bst_Grid.best_estimator_.predict(x_test)\n",
    "y_pred_xgprob = bst_Grid.best_estimator_.predict_proba(x_test)[:,1]"
   ]
  },
  {
   "cell_type": "code",
   "execution_count": 39,
   "metadata": {},
   "outputs": [
    {
     "data": {
      "text/plain": [
       "XGBClassifier(base_score=0.5, booster='gbtree', colsample_bylevel=1,\n",
       "              colsample_bynode=1, colsample_bytree=1, gamma=1.8, gpu_id=-1,\n",
       "              importance_type='gain', interaction_constraints='',\n",
       "              learning_rate=0.4, max_delta_step=0, max_depth=4,\n",
       "              min_child_weight=1, missing=nan, monotone_constraints='()',\n",
       "              n_estimators=410, n_jobs=0, num_parallel_tree=1, random_state=243,\n",
       "              reg_alpha=0, reg_lambda=1, scale_pos_weight=1, subsample=1,\n",
       "              tree_method='exact', validate_parameters=1, verbosity=None)"
      ]
     },
     "execution_count": 39,
     "metadata": {},
     "output_type": "execute_result"
    }
   ],
   "source": [
    "bst_Grid.best_estimator_"
   ]
  },
  {
   "cell_type": "code",
   "execution_count": 40,
   "metadata": {},
   "outputs": [
    {
     "data": {
      "text/plain": [
       "array([[119284,   2460],\n",
       "       [   449,  24438]], dtype=int64)"
      ]
     },
     "execution_count": 40,
     "metadata": {},
     "output_type": "execute_result"
    }
   ],
   "source": [
    "metrics.confusion_matrix(y_test, y_pred_xg)"
   ]
  },
  {
   "cell_type": "code",
   "execution_count": 41,
   "metadata": {},
   "outputs": [
    {
     "name": "stdout",
     "output_type": "stream",
     "text": [
      "              precision    recall  f1-score   support\n",
      "\n",
      "           0       1.00      0.98      0.99    121744\n",
      "           1       0.91      0.98      0.94     24887\n",
      "\n",
      "    accuracy                           0.98    146631\n",
      "   macro avg       0.95      0.98      0.97    146631\n",
      "weighted avg       0.98      0.98      0.98    146631\n",
      "\n"
     ]
    }
   ],
   "source": [
    "print(metrics.classification_report(y_test, y_pred_xg))"
   ]
  },
  {
   "cell_type": "code",
   "execution_count": 42,
   "metadata": {},
   "outputs": [
    {
     "data": {
      "text/plain": [
       "0.9967068134431026"
      ]
     },
     "execution_count": 42,
     "metadata": {},
     "output_type": "execute_result"
    }
   ],
   "source": [
    "sk.metrics.roc_auc_score(y_test, y_pred_xgprob)"
   ]
  },
  {
   "cell_type": "code",
   "execution_count": 43,
   "metadata": {},
   "outputs": [
    {
     "data": {
      "text/plain": [
       "0.980161084627398"
      ]
     },
     "execution_count": 43,
     "metadata": {},
     "output_type": "execute_result"
    }
   ],
   "source": [
    "metrics.accuracy_score(y_test, y_pred_xg)"
   ]
  },
  {
   "cell_type": "code",
   "execution_count": 48,
   "metadata": {},
   "outputs": [
    {
     "name": "stdout",
     "output_type": "stream",
     "text": [
      "              precision    recall  f1-score   support\n",
      "\n",
      "           0       1.00      0.98      0.99    283830\n",
      "           1       0.91      0.98      0.95     58306\n",
      "\n",
      "    accuracy                           0.98    342136\n",
      "   macro avg       0.95      0.98      0.97    342136\n",
      "weighted avg       0.98      0.98      0.98    342136\n",
      "\n"
     ]
    }
   ],
   "source": [
    "y_pred_trainxg = bst_Grid.best_estimator_.predict(x_train)\n",
    "\n",
    "print(metrics.classification_report(y_train, y_pred_trainxg))"
   ]
  },
  {
   "cell_type": "code",
   "execution_count": 49,
   "metadata": {},
   "outputs": [],
   "source": [
    "false_positive_rate, true_positive_rate, threshold = sk.metrics.roc_curve(y_test, y_pred_xgprob)"
   ]
  },
  {
   "cell_type": "code",
   "execution_count": 50,
   "metadata": {},
   "outputs": [
    {
     "data": {
      "image/png": "[encoded data removed]",
      "text/plain": [
       "<Figure size 432x288 with 1 Axes>"
      ]
     },
     "metadata": {
      "needs_background": "light"
     },
     "output_type": "display_data"
    }
   ],
   "source": [
    "plt.title('ROC curve')\n",
    "plt.plot(false_positive_rate, true_positive_rate, color='b', ls='--')\n",
    "plt.ylabel('true_positive_rate')\n",
    "plt.xlabel('false_positive_rate')\n",
    "plt.show()"
   ]
  },
  {
   "cell_type": "code",
   "execution_count": 51,
   "metadata": {},
   "outputs": [],
   "source": [
    "X.CAMP_ID = pd.to_numeric(X.CAMP_ID)"
   ]
  },
  {
   "cell_type": "code",
   "execution_count": 52,
   "metadata": {},
   "outputs": [],
   "source": [
    "Y_xgc = bst_Grid.best_estimator_.predict(X)"
   ]
  },
  {
   "cell_type": "code",
   "execution_count": 53,
   "metadata": {},
   "outputs": [],
   "source": [
    "df0['XG_classsifier_prediction'] = Y_xgc"
   ]
  },
  {
   "cell_type": "code",
   "execution_count": 54,
   "metadata": {},
   "outputs": [
    {
     "data": {
      "text/html": [
       "<div>\n",
       "<style scoped>\n",
       "    .dataframe tbody tr th:only-of-type {\n",
       "        vertical-align: middle;\n",
       "    }\n",
       "\n",
       "    .dataframe tbody tr th {\n",
       "        vertical-align: top;\n",
       "    }\n",
       "\n",
       "    .dataframe thead th {\n",
       "        text-align: right;\n",
       "    }\n",
       "</style>\n",
       "<table border=\"1\" class=\"dataframe\">\n",
       "  <thead>\n",
       "    <tr style=\"text-align: right;\">\n",
       "      <th></th>\n",
       "      <th>Unnamed: 0</th>\n",
       "      <th>DATE_ID</th>\n",
       "      <th>CAMPAIGN</th>\n",
       "      <th>KEYWORD</th>\n",
       "      <th>_POSITION</th>\n",
       "      <th>CLICKS</th>\n",
       "      <th>CPC</th>\n",
       "      <th>IMPRESSIONS</th>\n",
       "      <th>MEDIA_COST</th>\n",
       "      <th>CTR</th>\n",
       "      <th>Flag</th>\n",
       "      <th>CAMP_ID</th>\n",
       "      <th>week</th>\n",
       "      <th>KW_ID</th>\n",
       "      <th>Q</th>\n",
       "      <th>NETWORK_Bing</th>\n",
       "      <th>NETWORK_Google</th>\n",
       "      <th>NETWORK_Yahoo</th>\n",
       "      <th>CAMPAIGN_TYPE_Branded</th>\n",
       "      <th>CAMPAIGN_TYPE_Unbranded</th>\n",
       "      <th>cluster_assignment</th>\n",
       "      <th>cluster_name</th>\n",
       "      <th>RF_classsifier_prediction</th>\n",
       "      <th>XG_classsifier_prediction</th>\n",
       "    </tr>\n",
       "  </thead>\n",
       "  <tbody>\n",
       "    <tr>\n",
       "      <th>0</th>\n",
       "      <td>0</td>\n",
       "      <td>20170521</td>\n",
       "      <td>Non Brand | Condition | Geo</td>\n",
       "      <td>symptoms of asthma</td>\n",
       "      <td>2.08</td>\n",
       "      <td>3</td>\n",
       "      <td>1.8</td>\n",
       "      <td>51</td>\n",
       "      <td>5.4</td>\n",
       "      <td>0.058824</td>\n",
       "      <td>1</td>\n",
       "      <td>1</td>\n",
       "      <td>7</td>\n",
       "      <td>1</td>\n",
       "      <td>2</td>\n",
       "      <td>0</td>\n",
       "      <td>1</td>\n",
       "      <td>0</td>\n",
       "      <td>0</td>\n",
       "      <td>1</td>\n",
       "      <td>13</td>\n",
       "      <td>asthma symptoms and causes</td>\n",
       "      <td>1</td>\n",
       "      <td>1</td>\n",
       "    </tr>\n",
       "    <tr>\n",
       "      <th>1</th>\n",
       "      <td>1</td>\n",
       "      <td>20170521</td>\n",
       "      <td>Brand</td>\n",
       "      <td>product1 spacer</td>\n",
       "      <td>1.00</td>\n",
       "      <td>0</td>\n",
       "      <td>0.0</td>\n",
       "      <td>2</td>\n",
       "      <td>0.0</td>\n",
       "      <td>0.000000</td>\n",
       "      <td>0</td>\n",
       "      <td>2</td>\n",
       "      <td>7</td>\n",
       "      <td>2</td>\n",
       "      <td>2</td>\n",
       "      <td>0</td>\n",
       "      <td>1</td>\n",
       "      <td>0</td>\n",
       "      <td>1</td>\n",
       "      <td>0</td>\n",
       "      <td>1</td>\n",
       "      <td>product1 inhaler/spacer uses, coupons &amp; instru...</td>\n",
       "      <td>0</td>\n",
       "      <td>0</td>\n",
       "    </tr>\n",
       "    <tr>\n",
       "      <th>2</th>\n",
       "      <td>2</td>\n",
       "      <td>20170521</td>\n",
       "      <td>Non Brand | Treatment | National</td>\n",
       "      <td>how to prevent asthma</td>\n",
       "      <td>1.48</td>\n",
       "      <td>0</td>\n",
       "      <td>0.0</td>\n",
       "      <td>4</td>\n",
       "      <td>0.0</td>\n",
       "      <td>0.000000</td>\n",
       "      <td>0</td>\n",
       "      <td>3</td>\n",
       "      <td>7</td>\n",
       "      <td>3</td>\n",
       "      <td>2</td>\n",
       "      <td>0</td>\n",
       "      <td>1</td>\n",
       "      <td>0</td>\n",
       "      <td>0</td>\n",
       "      <td>1</td>\n",
       "      <td>2</td>\n",
       "      <td>asthma facts, causes, prevention &amp; relief/control</td>\n",
       "      <td>0</td>\n",
       "      <td>0</td>\n",
       "    </tr>\n",
       "    <tr>\n",
       "      <th>3</th>\n",
       "      <td>3</td>\n",
       "      <td>20170521</td>\n",
       "      <td>Non Brand | Info | Geo</td>\n",
       "      <td>facts about asthma</td>\n",
       "      <td>0.00</td>\n",
       "      <td>0</td>\n",
       "      <td>0.0</td>\n",
       "      <td>0</td>\n",
       "      <td>0.0</td>\n",
       "      <td>0.000000</td>\n",
       "      <td>0</td>\n",
       "      <td>4</td>\n",
       "      <td>7</td>\n",
       "      <td>4</td>\n",
       "      <td>2</td>\n",
       "      <td>1</td>\n",
       "      <td>0</td>\n",
       "      <td>0</td>\n",
       "      <td>0</td>\n",
       "      <td>1</td>\n",
       "      <td>2</td>\n",
       "      <td>asthma facts, causes, prevention &amp; relief/control</td>\n",
       "      <td>0</td>\n",
       "      <td>0</td>\n",
       "    </tr>\n",
       "    <tr>\n",
       "      <th>4</th>\n",
       "      <td>4</td>\n",
       "      <td>20170521</td>\n",
       "      <td>Non Brand | Condition | Geo</td>\n",
       "      <td>asthma symptoms in children</td>\n",
       "      <td>0.00</td>\n",
       "      <td>0</td>\n",
       "      <td>0.0</td>\n",
       "      <td>0</td>\n",
       "      <td>0.0</td>\n",
       "      <td>0.000000</td>\n",
       "      <td>0</td>\n",
       "      <td>1</td>\n",
       "      <td>7</td>\n",
       "      <td>5</td>\n",
       "      <td>2</td>\n",
       "      <td>1</td>\n",
       "      <td>0</td>\n",
       "      <td>0</td>\n",
       "      <td>0</td>\n",
       "      <td>1</td>\n",
       "      <td>19</td>\n",
       "      <td>asthma symptoms &amp; causes in children</td>\n",
       "      <td>0</td>\n",
       "      <td>0</td>\n",
       "    </tr>\n",
       "  </tbody>\n",
       "</table>\n",
       "</div>"
      ],
      "text/plain": [
       "   Unnamed: 0   DATE_ID                          CAMPAIGN  \\\n",
       "0           0  20170521       Non Brand | Condition | Geo   \n",
       "1           1  20170521                             Brand   \n",
       "2           2  20170521  Non Brand | Treatment | National   \n",
       "3           3  20170521            Non Brand | Info | Geo   \n",
       "4           4  20170521       Non Brand | Condition | Geo   \n",
       "\n",
       "                       KEYWORD  _POSITION  CLICKS  CPC  IMPRESSIONS  \\\n",
       "0           symptoms of asthma       2.08       3  1.8           51   \n",
       "1              product1 spacer       1.00       0  0.0            2   \n",
       "2        how to prevent asthma       1.48       0  0.0            4   \n",
       "3           facts about asthma       0.00       0  0.0            0   \n",
       "4  asthma symptoms in children       0.00       0  0.0            0   \n",
       "\n",
       "   MEDIA_COST       CTR  Flag  CAMP_ID  week  KW_ID  Q  NETWORK_Bing  \\\n",
       "0         5.4  0.058824     1        1     7      1  2             0   \n",
       "1         0.0  0.000000     0        2     7      2  2             0   \n",
       "2         0.0  0.000000     0        3     7      3  2             0   \n",
       "3         0.0  0.000000     0        4     7      4  2             1   \n",
       "4         0.0  0.000000     0        1     7      5  2             1   \n",
       "\n",
       "   NETWORK_Google  NETWORK_Yahoo  CAMPAIGN_TYPE_Branded  \\\n",
       "0               1              0                      0   \n",
       "1               1              0                      1   \n",
       "2               1              0                      0   \n",
       "3               0              0                      0   \n",
       "4               0              0                      0   \n",
       "\n",
       "   CAMPAIGN_TYPE_Unbranded  cluster_assignment  \\\n",
       "0                        1                  13   \n",
       "1                        0                   1   \n",
       "2                        1                   2   \n",
       "3                        1                   2   \n",
       "4                        1                  19   \n",
       "\n",
       "                                        cluster_name  \\\n",
       "0                         asthma symptoms and causes   \n",
       "1  product1 inhaler/spacer uses, coupons & instru...   \n",
       "2  asthma facts, causes, prevention & relief/control   \n",
       "3  asthma facts, causes, prevention & relief/control   \n",
       "4               asthma symptoms & causes in children   \n",
       "\n",
       "   RF_classsifier_prediction  XG_classsifier_prediction  \n",
       "0                          1                          1  \n",
       "1                          0                          0  \n",
       "2                          0                          0  \n",
       "3                          0                          0  \n",
       "4                          0                          0  "
      ]
     },
     "execution_count": 54,
     "metadata": {},
     "output_type": "execute_result"
    }
   ],
   "source": [
    "df0.head()"
   ]
  },
  {
   "cell_type": "code",
   "execution_count": 55,
   "metadata": {},
   "outputs": [],
   "source": [
    "df0.to_csv('V5.csv')"
   ]
  },
  {
   "cell_type": "code",
   "execution_count": null,
   "metadata": {},
   "outputs": [],
   "source": []
  }
 ],
 "metadata": {
  "kernelspec": {
   "display_name": "Python 3",
   "language": "python",
   "name": "python3"
  },
  "language_info": {
   "codemirror_mode": {
    "name": "ipython",
    "version": 3
   },
   "file_extension": ".py",
   "mimetype": "text/x-python",
   "name": "python",
   "nbconvert_exporter": "python",
   "pygments_lexer": "ipython3",
   "version": "3.7.6"
  }
 },
 "nbformat": 4,
 "nbformat_minor": 4
}
