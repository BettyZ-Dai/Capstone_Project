{
 "cells": [
  {
   "cell_type": "code",
   "execution_count": 1,
   "metadata": {},
   "outputs": [],
   "source": [
    "%matplotlib inline\n",
    "import numpy as np\n",
    "import pandas as pd\n",
    "import string\n",
    "from numpy.random import normal,random,seed\n",
    "from scipy.stats import norm\n",
    "import matplotlib.pyplot as plt\n",
    "\n",
    "from sklearn.ensemble import RandomForestRegressor\n",
    "from sklearn.preprocessing import LabelEncoder\n",
    "from sklearn.model_selection import GridSearchCV,cross_val_score,train_test_split\n",
    "from sklearn.metrics import log_loss\n",
    "import xgboost as xgb\n",
    "from xgboost.sklearn import XGBRegressor"
   ]
  },
  {
   "cell_type": "code",
   "execution_count": 2,
   "metadata": {},
   "outputs": [],
   "source": [
    "pd.set_option('display.max_columns', None)"
   ]
  },
  {
   "cell_type": "code",
   "execution_count": 3,
   "metadata": {},
   "outputs": [],
   "source": [
    "df = pd.read_csv('V5.csv')"
   ]
  },
  {
   "cell_type": "code",
   "execution_count": 4,
   "metadata": {},
   "outputs": [
    {
     "data": {
      "text/html": [
       "<div>\n",
       "<style scoped>\n",
       "    .dataframe tbody tr th:only-of-type {\n",
       "        vertical-align: middle;\n",
       "    }\n",
       "\n",
       "    .dataframe tbody tr th {\n",
       "        vertical-align: top;\n",
       "    }\n",
       "\n",
       "    .dataframe thead th {\n",
       "        text-align: right;\n",
       "    }\n",
       "</style>\n",
       "<table border=\"1\" class=\"dataframe\">\n",
       "  <thead>\n",
       "    <tr style=\"text-align: right;\">\n",
       "      <th></th>\n",
       "      <th>Unnamed: 0</th>\n",
       "      <th>Unnamed: 0.1</th>\n",
       "      <th>DATE_ID</th>\n",
       "      <th>CAMPAIGN</th>\n",
       "      <th>KEYWORD</th>\n",
       "      <th>_POSITION</th>\n",
       "      <th>CLICKS</th>\n",
       "      <th>CPC</th>\n",
       "      <th>IMPRESSIONS</th>\n",
       "      <th>MEDIA_COST</th>\n",
       "      <th>CTR</th>\n",
       "      <th>Flag</th>\n",
       "      <th>CAMP_ID</th>\n",
       "      <th>week</th>\n",
       "      <th>KW_ID</th>\n",
       "      <th>Q</th>\n",
       "      <th>NETWORK_Bing</th>\n",
       "      <th>NETWORK_Google</th>\n",
       "      <th>NETWORK_Yahoo</th>\n",
       "      <th>CAMPAIGN_TYPE_Branded</th>\n",
       "      <th>CAMPAIGN_TYPE_Unbranded</th>\n",
       "      <th>cluster_assignment</th>\n",
       "      <th>cluster_name</th>\n",
       "      <th>RF_classsifier_prediction</th>\n",
       "      <th>XG_classsifier_prediction</th>\n",
       "    </tr>\n",
       "  </thead>\n",
       "  <tbody>\n",
       "    <tr>\n",
       "      <th>0</th>\n",
       "      <td>0</td>\n",
       "      <td>0</td>\n",
       "      <td>20170521</td>\n",
       "      <td>Non Brand | Condition | Geo</td>\n",
       "      <td>symptoms of asthma</td>\n",
       "      <td>2.08</td>\n",
       "      <td>3</td>\n",
       "      <td>1.8</td>\n",
       "      <td>51</td>\n",
       "      <td>5.4</td>\n",
       "      <td>0.058824</td>\n",
       "      <td>1</td>\n",
       "      <td>1</td>\n",
       "      <td>7</td>\n",
       "      <td>1</td>\n",
       "      <td>2</td>\n",
       "      <td>0</td>\n",
       "      <td>1</td>\n",
       "      <td>0</td>\n",
       "      <td>0</td>\n",
       "      <td>1</td>\n",
       "      <td>13</td>\n",
       "      <td>asthma symptoms and causes</td>\n",
       "      <td>1</td>\n",
       "      <td>1</td>\n",
       "    </tr>\n",
       "    <tr>\n",
       "      <th>1</th>\n",
       "      <td>1</td>\n",
       "      <td>1</td>\n",
       "      <td>20170521</td>\n",
       "      <td>Brand</td>\n",
       "      <td>product1 spacer</td>\n",
       "      <td>1.00</td>\n",
       "      <td>0</td>\n",
       "      <td>0.0</td>\n",
       "      <td>2</td>\n",
       "      <td>0.0</td>\n",
       "      <td>0.000000</td>\n",
       "      <td>0</td>\n",
       "      <td>2</td>\n",
       "      <td>7</td>\n",
       "      <td>2</td>\n",
       "      <td>2</td>\n",
       "      <td>0</td>\n",
       "      <td>1</td>\n",
       "      <td>0</td>\n",
       "      <td>1</td>\n",
       "      <td>0</td>\n",
       "      <td>1</td>\n",
       "      <td>product1 inhaler/spacer uses, coupons &amp; instru...</td>\n",
       "      <td>0</td>\n",
       "      <td>0</td>\n",
       "    </tr>\n",
       "    <tr>\n",
       "      <th>2</th>\n",
       "      <td>2</td>\n",
       "      <td>2</td>\n",
       "      <td>20170521</td>\n",
       "      <td>Non Brand | Treatment | National</td>\n",
       "      <td>how to prevent asthma</td>\n",
       "      <td>1.48</td>\n",
       "      <td>0</td>\n",
       "      <td>0.0</td>\n",
       "      <td>4</td>\n",
       "      <td>0.0</td>\n",
       "      <td>0.000000</td>\n",
       "      <td>0</td>\n",
       "      <td>3</td>\n",
       "      <td>7</td>\n",
       "      <td>3</td>\n",
       "      <td>2</td>\n",
       "      <td>0</td>\n",
       "      <td>1</td>\n",
       "      <td>0</td>\n",
       "      <td>0</td>\n",
       "      <td>1</td>\n",
       "      <td>2</td>\n",
       "      <td>asthma facts, causes, prevention &amp; relief/control</td>\n",
       "      <td>0</td>\n",
       "      <td>0</td>\n",
       "    </tr>\n",
       "    <tr>\n",
       "      <th>3</th>\n",
       "      <td>3</td>\n",
       "      <td>3</td>\n",
       "      <td>20170521</td>\n",
       "      <td>Non Brand | Info | Geo</td>\n",
       "      <td>facts about asthma</td>\n",
       "      <td>0.00</td>\n",
       "      <td>0</td>\n",
       "      <td>0.0</td>\n",
       "      <td>0</td>\n",
       "      <td>0.0</td>\n",
       "      <td>0.000000</td>\n",
       "      <td>0</td>\n",
       "      <td>4</td>\n",
       "      <td>7</td>\n",
       "      <td>4</td>\n",
       "      <td>2</td>\n",
       "      <td>1</td>\n",
       "      <td>0</td>\n",
       "      <td>0</td>\n",
       "      <td>0</td>\n",
       "      <td>1</td>\n",
       "      <td>2</td>\n",
       "      <td>asthma facts, causes, prevention &amp; relief/control</td>\n",
       "      <td>0</td>\n",
       "      <td>0</td>\n",
       "    </tr>\n",
       "    <tr>\n",
       "      <th>4</th>\n",
       "      <td>4</td>\n",
       "      <td>4</td>\n",
       "      <td>20170521</td>\n",
       "      <td>Non Brand | Condition | Geo</td>\n",
       "      <td>asthma symptoms in children</td>\n",
       "      <td>0.00</td>\n",
       "      <td>0</td>\n",
       "      <td>0.0</td>\n",
       "      <td>0</td>\n",
       "      <td>0.0</td>\n",
       "      <td>0.000000</td>\n",
       "      <td>0</td>\n",
       "      <td>1</td>\n",
       "      <td>7</td>\n",
       "      <td>5</td>\n",
       "      <td>2</td>\n",
       "      <td>1</td>\n",
       "      <td>0</td>\n",
       "      <td>0</td>\n",
       "      <td>0</td>\n",
       "      <td>1</td>\n",
       "      <td>19</td>\n",
       "      <td>asthma symptoms &amp; causes in children</td>\n",
       "      <td>0</td>\n",
       "      <td>0</td>\n",
       "    </tr>\n",
       "  </tbody>\n",
       "</table>\n",
       "</div>"
      ],
      "text/plain": [
       "   Unnamed: 0  Unnamed: 0.1   DATE_ID                          CAMPAIGN  \\\n",
       "0           0             0  20170521       Non Brand | Condition | Geo   \n",
       "1           1             1  20170521                             Brand   \n",
       "2           2             2  20170521  Non Brand | Treatment | National   \n",
       "3           3             3  20170521            Non Brand | Info | Geo   \n",
       "4           4             4  20170521       Non Brand | Condition | Geo   \n",
       "\n",
       "                       KEYWORD  _POSITION  CLICKS  CPC  IMPRESSIONS  \\\n",
       "0           symptoms of asthma       2.08       3  1.8           51   \n",
       "1              product1 spacer       1.00       0  0.0            2   \n",
       "2        how to prevent asthma       1.48       0  0.0            4   \n",
       "3           facts about asthma       0.00       0  0.0            0   \n",
       "4  asthma symptoms in children       0.00       0  0.0            0   \n",
       "\n",
       "   MEDIA_COST       CTR  Flag  CAMP_ID  week  KW_ID  Q  NETWORK_Bing  \\\n",
       "0         5.4  0.058824     1        1     7      1  2             0   \n",
       "1         0.0  0.000000     0        2     7      2  2             0   \n",
       "2         0.0  0.000000     0        3     7      3  2             0   \n",
       "3         0.0  0.000000     0        4     7      4  2             1   \n",
       "4         0.0  0.000000     0        1     7      5  2             1   \n",
       "\n",
       "   NETWORK_Google  NETWORK_Yahoo  CAMPAIGN_TYPE_Branded  \\\n",
       "0               1              0                      0   \n",
       "1               1              0                      1   \n",
       "2               1              0                      0   \n",
       "3               0              0                      0   \n",
       "4               0              0                      0   \n",
       "\n",
       "   CAMPAIGN_TYPE_Unbranded  cluster_assignment  \\\n",
       "0                        1                  13   \n",
       "1                        0                   1   \n",
       "2                        1                   2   \n",
       "3                        1                   2   \n",
       "4                        1                  19   \n",
       "\n",
       "                                        cluster_name  \\\n",
       "0                         asthma symptoms and causes   \n",
       "1  product1 inhaler/spacer uses, coupons & instru...   \n",
       "2  asthma facts, causes, prevention & relief/control   \n",
       "3  asthma facts, causes, prevention & relief/control   \n",
       "4               asthma symptoms & causes in children   \n",
       "\n",
       "   RF_classsifier_prediction  XG_classsifier_prediction  \n",
       "0                          1                          1  \n",
       "1                          0                          0  \n",
       "2                          0                          0  \n",
       "3                          0                          0  \n",
       "4                          0                          0  "
      ]
     },
     "execution_count": 4,
     "metadata": {},
     "output_type": "execute_result"
    }
   ],
   "source": [
    "df.head()"
   ]
  },
  {
   "cell_type": "code",
   "execution_count": 5,
   "metadata": {},
   "outputs": [
    {
     "data": {
      "text/html": [
       "<div>\n",
       "<style scoped>\n",
       "    .dataframe tbody tr th:only-of-type {\n",
       "        vertical-align: middle;\n",
       "    }\n",
       "\n",
       "    .dataframe tbody tr th {\n",
       "        vertical-align: top;\n",
       "    }\n",
       "\n",
       "    .dataframe thead th {\n",
       "        text-align: right;\n",
       "    }\n",
       "</style>\n",
       "<table border=\"1\" class=\"dataframe\">\n",
       "  <thead>\n",
       "    <tr style=\"text-align: right;\">\n",
       "      <th></th>\n",
       "      <th>Unnamed: 0</th>\n",
       "      <th>Unnamed: 0.1</th>\n",
       "      <th>DATE_ID</th>\n",
       "      <th>CAMPAIGN</th>\n",
       "      <th>KEYWORD</th>\n",
       "      <th>_POSITION</th>\n",
       "      <th>CLICKS</th>\n",
       "      <th>CPC</th>\n",
       "      <th>IMPRESSIONS</th>\n",
       "      <th>MEDIA_COST</th>\n",
       "      <th>CTR</th>\n",
       "      <th>Flag</th>\n",
       "      <th>CAMP_ID</th>\n",
       "      <th>week</th>\n",
       "      <th>KW_ID</th>\n",
       "      <th>Q</th>\n",
       "      <th>NETWORK_Bing</th>\n",
       "      <th>NETWORK_Google</th>\n",
       "      <th>NETWORK_Yahoo</th>\n",
       "      <th>CAMPAIGN_TYPE_Branded</th>\n",
       "      <th>CAMPAIGN_TYPE_Unbranded</th>\n",
       "      <th>cluster_assignment</th>\n",
       "      <th>cluster_name</th>\n",
       "      <th>RF_classsifier_prediction</th>\n",
       "      <th>XG_classsifier_prediction</th>\n",
       "      <th>logCTR</th>\n",
       "      <th>logClicks</th>\n",
       "      <th>logImpression</th>\n",
       "    </tr>\n",
       "  </thead>\n",
       "  <tbody>\n",
       "    <tr>\n",
       "      <th>0</th>\n",
       "      <td>0</td>\n",
       "      <td>0</td>\n",
       "      <td>20170521</td>\n",
       "      <td>Non Brand | Condition | Geo</td>\n",
       "      <td>symptoms of asthma</td>\n",
       "      <td>2.08</td>\n",
       "      <td>3</td>\n",
       "      <td>1.8</td>\n",
       "      <td>51</td>\n",
       "      <td>5.4</td>\n",
       "      <td>0.058824</td>\n",
       "      <td>1</td>\n",
       "      <td>1</td>\n",
       "      <td>7</td>\n",
       "      <td>1</td>\n",
       "      <td>2</td>\n",
       "      <td>0</td>\n",
       "      <td>1</td>\n",
       "      <td>0</td>\n",
       "      <td>0</td>\n",
       "      <td>1</td>\n",
       "      <td>13</td>\n",
       "      <td>asthma symptoms and causes</td>\n",
       "      <td>1</td>\n",
       "      <td>1</td>\n",
       "      <td>0.057158</td>\n",
       "      <td>1.386294</td>\n",
       "      <td>3.951244</td>\n",
       "    </tr>\n",
       "    <tr>\n",
       "      <th>1</th>\n",
       "      <td>1</td>\n",
       "      <td>1</td>\n",
       "      <td>20170521</td>\n",
       "      <td>Brand</td>\n",
       "      <td>product1 spacer</td>\n",
       "      <td>1.00</td>\n",
       "      <td>0</td>\n",
       "      <td>0.0</td>\n",
       "      <td>2</td>\n",
       "      <td>0.0</td>\n",
       "      <td>0.000000</td>\n",
       "      <td>0</td>\n",
       "      <td>2</td>\n",
       "      <td>7</td>\n",
       "      <td>2</td>\n",
       "      <td>2</td>\n",
       "      <td>0</td>\n",
       "      <td>1</td>\n",
       "      <td>0</td>\n",
       "      <td>1</td>\n",
       "      <td>0</td>\n",
       "      <td>1</td>\n",
       "      <td>product1 inhaler/spacer uses, coupons &amp; instru...</td>\n",
       "      <td>0</td>\n",
       "      <td>0</td>\n",
       "      <td>0.000000</td>\n",
       "      <td>0.000000</td>\n",
       "      <td>1.098612</td>\n",
       "    </tr>\n",
       "    <tr>\n",
       "      <th>2</th>\n",
       "      <td>2</td>\n",
       "      <td>2</td>\n",
       "      <td>20170521</td>\n",
       "      <td>Non Brand | Treatment | National</td>\n",
       "      <td>how to prevent asthma</td>\n",
       "      <td>1.48</td>\n",
       "      <td>0</td>\n",
       "      <td>0.0</td>\n",
       "      <td>4</td>\n",
       "      <td>0.0</td>\n",
       "      <td>0.000000</td>\n",
       "      <td>0</td>\n",
       "      <td>3</td>\n",
       "      <td>7</td>\n",
       "      <td>3</td>\n",
       "      <td>2</td>\n",
       "      <td>0</td>\n",
       "      <td>1</td>\n",
       "      <td>0</td>\n",
       "      <td>0</td>\n",
       "      <td>1</td>\n",
       "      <td>2</td>\n",
       "      <td>asthma facts, causes, prevention &amp; relief/control</td>\n",
       "      <td>0</td>\n",
       "      <td>0</td>\n",
       "      <td>0.000000</td>\n",
       "      <td>0.000000</td>\n",
       "      <td>1.609438</td>\n",
       "    </tr>\n",
       "    <tr>\n",
       "      <th>3</th>\n",
       "      <td>3</td>\n",
       "      <td>3</td>\n",
       "      <td>20170521</td>\n",
       "      <td>Non Brand | Info | Geo</td>\n",
       "      <td>facts about asthma</td>\n",
       "      <td>0.00</td>\n",
       "      <td>0</td>\n",
       "      <td>0.0</td>\n",
       "      <td>0</td>\n",
       "      <td>0.0</td>\n",
       "      <td>0.000000</td>\n",
       "      <td>0</td>\n",
       "      <td>4</td>\n",
       "      <td>7</td>\n",
       "      <td>4</td>\n",
       "      <td>2</td>\n",
       "      <td>1</td>\n",
       "      <td>0</td>\n",
       "      <td>0</td>\n",
       "      <td>0</td>\n",
       "      <td>1</td>\n",
       "      <td>2</td>\n",
       "      <td>asthma facts, causes, prevention &amp; relief/control</td>\n",
       "      <td>0</td>\n",
       "      <td>0</td>\n",
       "      <td>0.000000</td>\n",
       "      <td>0.000000</td>\n",
       "      <td>0.000000</td>\n",
       "    </tr>\n",
       "    <tr>\n",
       "      <th>4</th>\n",
       "      <td>4</td>\n",
       "      <td>4</td>\n",
       "      <td>20170521</td>\n",
       "      <td>Non Brand | Condition | Geo</td>\n",
       "      <td>asthma symptoms in children</td>\n",
       "      <td>0.00</td>\n",
       "      <td>0</td>\n",
       "      <td>0.0</td>\n",
       "      <td>0</td>\n",
       "      <td>0.0</td>\n",
       "      <td>0.000000</td>\n",
       "      <td>0</td>\n",
       "      <td>1</td>\n",
       "      <td>7</td>\n",
       "      <td>5</td>\n",
       "      <td>2</td>\n",
       "      <td>1</td>\n",
       "      <td>0</td>\n",
       "      <td>0</td>\n",
       "      <td>0</td>\n",
       "      <td>1</td>\n",
       "      <td>19</td>\n",
       "      <td>asthma symptoms &amp; causes in children</td>\n",
       "      <td>0</td>\n",
       "      <td>0</td>\n",
       "      <td>0.000000</td>\n",
       "      <td>0.000000</td>\n",
       "      <td>0.000000</td>\n",
       "    </tr>\n",
       "  </tbody>\n",
       "</table>\n",
       "</div>"
      ],
      "text/plain": [
       "   Unnamed: 0  Unnamed: 0.1   DATE_ID                          CAMPAIGN  \\\n",
       "0           0             0  20170521       Non Brand | Condition | Geo   \n",
       "1           1             1  20170521                             Brand   \n",
       "2           2             2  20170521  Non Brand | Treatment | National   \n",
       "3           3             3  20170521            Non Brand | Info | Geo   \n",
       "4           4             4  20170521       Non Brand | Condition | Geo   \n",
       "\n",
       "                       KEYWORD  _POSITION  CLICKS  CPC  IMPRESSIONS  \\\n",
       "0           symptoms of asthma       2.08       3  1.8           51   \n",
       "1              product1 spacer       1.00       0  0.0            2   \n",
       "2        how to prevent asthma       1.48       0  0.0            4   \n",
       "3           facts about asthma       0.00       0  0.0            0   \n",
       "4  asthma symptoms in children       0.00       0  0.0            0   \n",
       "\n",
       "   MEDIA_COST       CTR  Flag  CAMP_ID  week  KW_ID  Q  NETWORK_Bing  \\\n",
       "0         5.4  0.058824     1        1     7      1  2             0   \n",
       "1         0.0  0.000000     0        2     7      2  2             0   \n",
       "2         0.0  0.000000     0        3     7      3  2             0   \n",
       "3         0.0  0.000000     0        4     7      4  2             1   \n",
       "4         0.0  0.000000     0        1     7      5  2             1   \n",
       "\n",
       "   NETWORK_Google  NETWORK_Yahoo  CAMPAIGN_TYPE_Branded  \\\n",
       "0               1              0                      0   \n",
       "1               1              0                      1   \n",
       "2               1              0                      0   \n",
       "3               0              0                      0   \n",
       "4               0              0                      0   \n",
       "\n",
       "   CAMPAIGN_TYPE_Unbranded  cluster_assignment  \\\n",
       "0                        1                  13   \n",
       "1                        0                   1   \n",
       "2                        1                   2   \n",
       "3                        1                   2   \n",
       "4                        1                  19   \n",
       "\n",
       "                                        cluster_name  \\\n",
       "0                         asthma symptoms and causes   \n",
       "1  product1 inhaler/spacer uses, coupons & instru...   \n",
       "2  asthma facts, causes, prevention & relief/control   \n",
       "3  asthma facts, causes, prevention & relief/control   \n",
       "4               asthma symptoms & causes in children   \n",
       "\n",
       "   RF_classsifier_prediction  XG_classsifier_prediction    logCTR  logClicks  \\\n",
       "0                          1                          1  0.057158   1.386294   \n",
       "1                          0                          0  0.000000   0.000000   \n",
       "2                          0                          0  0.000000   0.000000   \n",
       "3                          0                          0  0.000000   0.000000   \n",
       "4                          0                          0  0.000000   0.000000   \n",
       "\n",
       "   logImpression  \n",
       "0       3.951244  \n",
       "1       1.098612  \n",
       "2       1.609438  \n",
       "3       0.000000  \n",
       "4       0.000000  "
      ]
     },
     "execution_count": 5,
     "metadata": {},
     "output_type": "execute_result"
    }
   ],
   "source": [
    "#Perfrom log transformation because the CTR and Clicks are clustered to floor and ceiling\n",
    "\n",
    "df['logCTR'] = np.log(df['CTR']+1)\n",
    "df['logClicks'] = np.log(df['CLICKS']+1)\n",
    "df['logImpression'] = np.log(df['IMPRESSIONS']+1)\n",
    "df.head(5)"
   ]
  },
  {
   "cell_type": "code",
   "execution_count": 6,
   "metadata": {},
   "outputs": [
    {
     "data": {
      "text/plain": [
       "False"
      ]
     },
     "execution_count": 6,
     "metadata": {},
     "output_type": "execute_result"
    }
   ],
   "source": [
    "np.isfinite(df.logCTR).all()"
   ]
  },
  {
   "cell_type": "code",
   "execution_count": 7,
   "metadata": {},
   "outputs": [
    {
     "data": {
      "text/plain": [
       "(array([ 81826, 245823], dtype=int64),)"
      ]
     },
     "execution_count": 7,
     "metadata": {},
     "output_type": "execute_result"
    }
   ],
   "source": [
    "np.where(df.logCTR >= np.finfo(np.float64).max)"
   ]
  },
  {
   "cell_type": "code",
   "execution_count": 8,
   "metadata": {},
   "outputs": [
    {
     "name": "stderr",
     "output_type": "stream",
     "text": [
      "C:\\Users\\zjx04\\anaconda3\\lib\\site-packages\\pandas\\core\\indexing.py:670: SettingWithCopyWarning: \n",
      "A value is trying to be set on a copy of a slice from a DataFrame\n",
      "\n",
      "See the caveats in the documentation: https://pandas.pydata.org/pandas-docs/stable/user_guide/indexing.html#returning-a-view-versus-a-copy\n",
      "  self._setitem_with_indexer(indexer, value)\n"
     ]
    }
   ],
   "source": [
    "df[\"logCTR\"].iloc[81826] = 0\n",
    "df[\"logCTR\"].iloc[245823] = 0"
   ]
  },
  {
   "cell_type": "code",
   "execution_count": 9,
   "metadata": {},
   "outputs": [
    {
     "data": {
      "text/plain": [
       "True"
      ]
     },
     "execution_count": 9,
     "metadata": {},
     "output_type": "execute_result"
    }
   ],
   "source": [
    "np.isfinite(df.logClicks).all()"
   ]
  },
  {
   "cell_type": "code",
   "execution_count": 10,
   "metadata": {},
   "outputs": [
    {
     "data": {
      "text/plain": [
       "True"
      ]
     },
     "execution_count": 10,
     "metadata": {},
     "output_type": "execute_result"
    }
   ],
   "source": [
    "np.isfinite(df.logImpression).all()"
   ]
  },
  {
   "cell_type": "code",
   "execution_count": 9,
   "metadata": {},
   "outputs": [
    {
     "data": {
      "text/plain": [
       "Index(['Unnamed: 0', 'Unnamed: 0.1', 'DATE_ID', 'CAMPAIGN', 'KEYWORD',\n",
       "       '_POSITION', 'CLICKS', 'CPC', 'IMPRESSIONS', 'MEDIA_COST', 'CTR',\n",
       "       'Flag', 'CAMP_ID', 'week', 'KW_ID', 'Q', 'NETWORK_Bing',\n",
       "       'NETWORK_Google', 'NETWORK_Yahoo', 'CAMPAIGN_TYPE_Branded',\n",
       "       'CAMPAIGN_TYPE_Unbranded', 'cluster_assignment', 'cluster_name',\n",
       "       'RF_classsifier_prediction', 'XG_classsifier_prediction', 'logCTR',\n",
       "       'logClicks', 'logImpression'],\n",
       "      dtype='object')"
      ]
     },
     "execution_count": 9,
     "metadata": {},
     "output_type": "execute_result"
    }
   ],
   "source": [
    "df.columns"
   ]
  },
  {
   "cell_type": "markdown",
   "metadata": {},
   "source": [
    "### Regression on log CTR"
   ]
  },
  {
   "cell_type": "code",
   "execution_count": 13,
   "metadata": {},
   "outputs": [],
   "source": [
    "#remove CPC and keep media_cost\n",
    "X = df.drop(['DATE_ID','CAMPAIGN','KEYWORD','IMPRESSIONS','CTR','Flag','CLICKS','logCTR','logClicks','CPC',\n",
    "             'logImpression','Unnamed: 0','cluster_name','KW_ID','Unnamed: 0.1','RF_classsifier_prediction',\n",
    "            'XG_classsifier_prediction'], axis=1)\n",
    "Y = df['logCTR'].values"
   ]
  },
  {
   "cell_type": "code",
   "execution_count": 13,
   "metadata": {},
   "outputs": [
    {
     "data": {
      "text/plain": [
       "0"
      ]
     },
     "execution_count": 13,
     "metadata": {},
     "output_type": "execute_result"
    }
   ],
   "source": [
    "X['CAMP_ID'].isnull().sum()"
   ]
  },
  {
   "cell_type": "code",
   "execution_count": 14,
   "metadata": {},
   "outputs": [
    {
     "data": {
      "text/plain": [
       "(True,\n",
       " _POSITION                    True\n",
       " MEDIA_COST                   True\n",
       " CAMP_ID                      True\n",
       " week                         True\n",
       " Q                            True\n",
       " NETWORK_Bing                 True\n",
       " NETWORK_Google               True\n",
       " NETWORK_Yahoo                True\n",
       " CAMPAIGN_TYPE_Branded        True\n",
       " CAMPAIGN_TYPE_Unbranded      True\n",
       " cluster_assignment           True\n",
       " RF_classsifier_prediction    True\n",
       " XG_classsifier_prediction    True\n",
       " dtype: bool)"
      ]
     },
     "execution_count": 14,
     "metadata": {},
     "output_type": "execute_result"
    }
   ],
   "source": [
    "np.isfinite(Y).all(), np.isfinite(X).all()"
   ]
  },
  {
   "cell_type": "code",
   "execution_count": 15,
   "metadata": {},
   "outputs": [
    {
     "data": {
      "text/plain": [
       "(False, False)"
      ]
     },
     "execution_count": 15,
     "metadata": {},
     "output_type": "execute_result"
    }
   ],
   "source": [
    "np.any(np.isnan(X)), np.any(np.isnan(Y))"
   ]
  },
  {
   "cell_type": "code",
   "execution_count": 14,
   "metadata": {},
   "outputs": [],
   "source": [
    "x_train, x_test, y_train, y_test = train_test_split(X, Y, test_size = 0.3, random_state=121)"
   ]
  },
  {
   "cell_type": "code",
   "execution_count": 15,
   "metadata": {},
   "outputs": [
    {
     "data": {
      "text/html": [
       "<div>\n",
       "<style scoped>\n",
       "    .dataframe tbody tr th:only-of-type {\n",
       "        vertical-align: middle;\n",
       "    }\n",
       "\n",
       "    .dataframe tbody tr th {\n",
       "        vertical-align: top;\n",
       "    }\n",
       "\n",
       "    .dataframe thead th {\n",
       "        text-align: right;\n",
       "    }\n",
       "</style>\n",
       "<table border=\"1\" class=\"dataframe\">\n",
       "  <thead>\n",
       "    <tr style=\"text-align: right;\">\n",
       "      <th></th>\n",
       "      <th>_POSITION</th>\n",
       "      <th>MEDIA_COST</th>\n",
       "      <th>CAMP_ID</th>\n",
       "      <th>week</th>\n",
       "      <th>Q</th>\n",
       "      <th>NETWORK_Bing</th>\n",
       "      <th>NETWORK_Google</th>\n",
       "      <th>NETWORK_Yahoo</th>\n",
       "      <th>CAMPAIGN_TYPE_Branded</th>\n",
       "      <th>CAMPAIGN_TYPE_Unbranded</th>\n",
       "      <th>cluster_assignment</th>\n",
       "    </tr>\n",
       "  </thead>\n",
       "  <tbody>\n",
       "    <tr>\n",
       "      <th>121695</th>\n",
       "      <td>8.00</td>\n",
       "      <td>0.00</td>\n",
       "      <td>9</td>\n",
       "      <td>7</td>\n",
       "      <td>1</td>\n",
       "      <td>1</td>\n",
       "      <td>0</td>\n",
       "      <td>0</td>\n",
       "      <td>0</td>\n",
       "      <td>1</td>\n",
       "      <td>9</td>\n",
       "    </tr>\n",
       "    <tr>\n",
       "      <th>377647</th>\n",
       "      <td>1.89</td>\n",
       "      <td>21.78</td>\n",
       "      <td>9</td>\n",
       "      <td>4</td>\n",
       "      <td>2</td>\n",
       "      <td>0</td>\n",
       "      <td>1</td>\n",
       "      <td>0</td>\n",
       "      <td>0</td>\n",
       "      <td>1</td>\n",
       "      <td>16</td>\n",
       "    </tr>\n",
       "    <tr>\n",
       "      <th>280973</th>\n",
       "      <td>4.72</td>\n",
       "      <td>0.00</td>\n",
       "      <td>6</td>\n",
       "      <td>5</td>\n",
       "      <td>3</td>\n",
       "      <td>1</td>\n",
       "      <td>0</td>\n",
       "      <td>0</td>\n",
       "      <td>0</td>\n",
       "      <td>1</td>\n",
       "      <td>7</td>\n",
       "    </tr>\n",
       "    <tr>\n",
       "      <th>64168</th>\n",
       "      <td>4.00</td>\n",
       "      <td>0.00</td>\n",
       "      <td>5</td>\n",
       "      <td>4</td>\n",
       "      <td>1</td>\n",
       "      <td>1</td>\n",
       "      <td>0</td>\n",
       "      <td>0</td>\n",
       "      <td>0</td>\n",
       "      <td>1</td>\n",
       "      <td>2</td>\n",
       "    </tr>\n",
       "    <tr>\n",
       "      <th>45024</th>\n",
       "      <td>4.67</td>\n",
       "      <td>0.00</td>\n",
       "      <td>1</td>\n",
       "      <td>5</td>\n",
       "      <td>2</td>\n",
       "      <td>0</td>\n",
       "      <td>1</td>\n",
       "      <td>0</td>\n",
       "      <td>0</td>\n",
       "      <td>1</td>\n",
       "      <td>2</td>\n",
       "    </tr>\n",
       "  </tbody>\n",
       "</table>\n",
       "</div>"
      ],
      "text/plain": [
       "        _POSITION  MEDIA_COST  CAMP_ID  week  Q  NETWORK_Bing  NETWORK_Google  \\\n",
       "121695       8.00        0.00        9     7  1             1               0   \n",
       "377647       1.89       21.78        9     4  2             0               1   \n",
       "280973       4.72        0.00        6     5  3             1               0   \n",
       "64168        4.00        0.00        5     4  1             1               0   \n",
       "45024        4.67        0.00        1     5  2             0               1   \n",
       "\n",
       "        NETWORK_Yahoo  CAMPAIGN_TYPE_Branded  CAMPAIGN_TYPE_Unbranded  \\\n",
       "121695              0                      0                        1   \n",
       "377647              0                      0                        1   \n",
       "280973              0                      0                        1   \n",
       "64168               0                      0                        1   \n",
       "45024               0                      0                        1   \n",
       "\n",
       "        cluster_assignment  \n",
       "121695                   9  \n",
       "377647                  16  \n",
       "280973                   7  \n",
       "64168                    2  \n",
       "45024                    2  "
      ]
     },
     "execution_count": 15,
     "metadata": {},
     "output_type": "execute_result"
    }
   ],
   "source": [
    "x_train.head()"
   ]
  },
  {
   "cell_type": "markdown",
   "metadata": {},
   "source": [
    "#### Base RF model"
   ]
  },
  {
   "cell_type": "code",
   "execution_count": 16,
   "metadata": {},
   "outputs": [],
   "source": [
    "rf = RandomForestRegressor(n_estimators=400, min_samples_leaf=0.12, random_state=121)\n",
    "rf.fit(x_train, y_train)\n",
    "\n",
    "# Predict the test set labels 'y_pred'\n",
    "y_pred = rf.predict(x_test)\n",
    "y_pred_train = rf.predict(x_train)"
   ]
  },
  {
   "cell_type": "code",
   "execution_count": 17,
   "metadata": {},
   "outputs": [],
   "source": [
    "def RMSE(x,y): \n",
    "    return np.mean((x - y)**2)**0.5"
   ]
  },
  {
   "cell_type": "code",
   "execution_count": 18,
   "metadata": {},
   "outputs": [
    {
     "name": "stdout",
     "output_type": "stream",
     "text": [
      "Test set RMSE of rf: 0.10\n",
      "Train set RMSE of rf: 0.10\n"
     ]
    }
   ],
   "source": [
    "# Evaluate the test set RMSE\n",
    "rmse_test = RMSE(y_test, y_pred)\n",
    "rmse_train = RMSE(y_train, y_pred_train)\n",
    "\n",
    "# Print the test set RMSE\n",
    "print('Test set RMSE of rf: {:.2f}'.format(rmse_test))\n",
    "print('Train set RMSE of rf: {:.2f}'.format(rmse_train))"
   ]
  },
  {
   "cell_type": "code",
   "execution_count": 19,
   "metadata": {},
   "outputs": [],
   "source": [
    "r2_train = np.corrcoef(y_train, y_pred_train)**2\n",
    "r2_test = np.corrcoef(y_test, y_pred)**2"
   ]
  },
  {
   "cell_type": "code",
   "execution_count": 20,
   "metadata": {},
   "outputs": [
    {
     "data": {
      "text/plain": [
       "(array([[1.       , 0.4560609],\n",
       "        [0.4560609, 1.       ]]),\n",
       " array([[1.        , 0.45646849],\n",
       "        [0.45646849, 1.        ]]))"
      ]
     },
     "execution_count": 20,
     "metadata": {},
     "output_type": "execute_result"
    }
   ],
   "source": [
    "r2_train, r2_test"
   ]
  },
  {
   "cell_type": "code",
   "execution_count": 21,
   "metadata": {},
   "outputs": [
    {
     "data": {
      "image/png": "[encoded data removed]",
      "text/plain": [
       "<Figure size 432x288 with 1 Axes>"
      ]
     },
     "metadata": {
      "needs_background": "light"
     },
     "output_type": "display_data"
    }
   ],
   "source": [
    "import pandas as pd\n",
    "import matplotlib.pyplot as plt\n",
    "# Create a pd.Series of features importances\n",
    "importances_rf = pd.Series(rf.feature_importances_, index = X.columns)\n",
    "# Sort importances_rf\n",
    "sorted_importances_rf = importances_rf.sort_values()\n",
    "# Make a horizontal bar plot\n",
    "sorted_importances_rf.plot(kind='barh', color='blue')\n",
    "plt.show()"
   ]
  },
  {
   "cell_type": "code",
   "execution_count": 22,
   "metadata": {},
   "outputs": [
    {
     "data": {
      "text/plain": [
       "<bound method BaseEstimator.get_params of RandomForestRegressor(min_samples_leaf=0.12, n_estimators=400, random_state=121)>"
      ]
     },
     "execution_count": 22,
     "metadata": {},
     "output_type": "execute_result"
    }
   ],
   "source": [
    "rf.get_params"
   ]
  },
  {
   "cell_type": "markdown",
   "metadata": {},
   "source": [
    "#### Randomize Search RF"
   ]
  },
  {
   "cell_type": "code",
   "execution_count": 65,
   "metadata": {},
   "outputs": [],
   "source": [
    "param_grid = {'max_features': [6, 8, 'auto', 'log2'],\n",
    "              'min_samples_leaf': [0.08, 0.10, 0.12],\n",
    "              'n_estimators': [300, 400, 500]}"
   ]
  },
  {
   "cell_type": "code",
   "execution_count": 66,
   "metadata": {},
   "outputs": [],
   "source": [
    "rf0 = RandomForestRegressor(random_state=12, oob_score = True, bootstrap = True)"
   ]
  },
  {
   "cell_type": "code",
   "execution_count": 67,
   "metadata": {},
   "outputs": [],
   "source": [
    "from sklearn.model_selection import RandomizedSearchCV\n",
    "rf_random = RandomizedSearchCV(estimator = rf0, param_distributions = param_grid, scoring = \"r2\",\n",
    "                               n_iter = 10, cv = 3, verbose = 1, n_jobs = -1)"
   ]
  },
  {
   "cell_type": "code",
   "execution_count": 68,
   "metadata": {},
   "outputs": [
    {
     "name": "stdout",
     "output_type": "stream",
     "text": [
      "Fitting 3 folds for each of 10 candidates, totalling 30 fits\n"
     ]
    },
    {
     "name": "stderr",
     "output_type": "stream",
     "text": [
      "[Parallel(n_jobs=-1)]: Using backend LokyBackend with 4 concurrent workers.\n",
      "[Parallel(n_jobs=-1)]: Done  30 out of  30 | elapsed: 13.0min finished\n"
     ]
    },
    {
     "data": {
      "text/plain": [
       "RandomizedSearchCV(cv=3,\n",
       "                   estimator=RandomForestRegressor(oob_score=True,\n",
       "                                                   random_state=12),\n",
       "                   n_jobs=-1,\n",
       "                   param_distributions={'max_features': [6, 8, 'auto', 'log2'],\n",
       "                                        'min_samples_leaf': [0.08, 0.1, 0.12],\n",
       "                                        'n_estimators': [300, 400, 500]},\n",
       "                   scoring='r2', verbose=1)"
      ]
     },
     "execution_count": 68,
     "metadata": {},
     "output_type": "execute_result"
    }
   ],
   "source": [
    "rf_random.fit(x_train, y_train)"
   ]
  },
  {
   "cell_type": "code",
   "execution_count": 71,
   "metadata": {},
   "outputs": [
    {
     "data": {
      "text/plain": [
       "{'n_estimators': 400, 'min_samples_leaf': 0.12, 'max_features': 'auto'}"
      ]
     },
     "execution_count": 71,
     "metadata": {},
     "output_type": "execute_result"
    }
   ],
   "source": [
    "rf_random.best_params_"
   ]
  },
  {
   "cell_type": "code",
   "execution_count": 72,
   "metadata": {},
   "outputs": [
    {
     "name": "stdout",
     "output_type": "stream",
     "text": [
      "train RMSE = 0.09768743094671042\n"
     ]
    }
   ],
   "source": [
    "print('train RMSE =', RMSE(y_test, rf_random.best_estimator_.predict(x_test)))"
   ]
  },
  {
   "cell_type": "code",
   "execution_count": 73,
   "metadata": {},
   "outputs": [
    {
     "name": "stdout",
     "output_type": "stream",
     "text": [
      "r2_train [[1.        0.4560609]\n",
      " [0.4560609 1.       ]]\n",
      "r2_test [[1.         0.45646849]\n",
      " [0.45646849 1.        ]]\n"
     ]
    }
   ],
   "source": [
    "print(\"r2_train\", np.corrcoef(y_train, rf_random.best_estimator_.predict(x_train))**2)\n",
    "print(\"r2_test\", np.corrcoef(y_test, rf_random.best_estimator_.predict(x_test))**2)"
   ]
  },
  {
   "cell_type": "markdown",
   "metadata": {},
   "source": [
    "#### Base XGboost model"
   ]
  },
  {
   "cell_type": "code",
   "execution_count": 90,
   "metadata": {},
   "outputs": [],
   "source": [
    "param = {'objective': 'reg:squarederror'}"
   ]
  },
  {
   "cell_type": "code",
   "execution_count": 76,
   "metadata": {},
   "outputs": [],
   "source": [
    "dtrain = xgb.DMatrix(x_train, label=y_train)"
   ]
  },
  {
   "cell_type": "code",
   "execution_count": 91,
   "metadata": {},
   "outputs": [
    {
     "name": "stdout",
     "output_type": "stream",
     "text": [
      "[0]\ttrain-rmse:0.33670+0.00005\ttest-rmse:0.33671+0.00014\n",
      "[10]\ttrain-rmse:0.07059+0.00034\ttest-rmse:0.07139+0.00039\n",
      "[20]\ttrain-rmse:0.06809+0.00029\ttest-rmse:0.06967+0.00056\n",
      "[30]\ttrain-rmse:0.06707+0.00031\ttest-rmse:0.06936+0.00057\n",
      "[40]\ttrain-rmse:0.06636+0.00029\ttest-rmse:0.06919+0.00052\n",
      "[50]\ttrain-rmse:0.06566+0.00020\ttest-rmse:0.06908+0.00053\n",
      "[60]\ttrain-rmse:0.06511+0.00019\ttest-rmse:0.06905+0.00051\n",
      "[70]\ttrain-rmse:0.06458+0.00018\ttest-rmse:0.06902+0.00053\n",
      "[80]\ttrain-rmse:0.06407+0.00015\ttest-rmse:0.06902+0.00048\n",
      "[90]\ttrain-rmse:0.06359+0.00018\ttest-rmse:0.06901+0.00045\n",
      "[99]\ttrain-rmse:0.06315+0.00017\ttest-rmse:0.06904+0.00048\n"
     ]
    },
    {
     "data": {
      "text/html": [
       "<div>\n",
       "<style scoped>\n",
       "    .dataframe tbody tr th:only-of-type {\n",
       "        vertical-align: middle;\n",
       "    }\n",
       "\n",
       "    .dataframe tbody tr th {\n",
       "        vertical-align: top;\n",
       "    }\n",
       "\n",
       "    .dataframe thead th {\n",
       "        text-align: right;\n",
       "    }\n",
       "</style>\n",
       "<table border=\"1\" class=\"dataframe\">\n",
       "  <thead>\n",
       "    <tr style=\"text-align: right;\">\n",
       "      <th></th>\n",
       "      <th>train-rmse-mean</th>\n",
       "      <th>train-rmse-std</th>\n",
       "      <th>test-rmse-mean</th>\n",
       "      <th>test-rmse-std</th>\n",
       "    </tr>\n",
       "  </thead>\n",
       "  <tbody>\n",
       "    <tr>\n",
       "      <th>90</th>\n",
       "      <td>0.063588</td>\n",
       "      <td>0.000180</td>\n",
       "      <td>0.069008</td>\n",
       "      <td>0.000449</td>\n",
       "    </tr>\n",
       "    <tr>\n",
       "      <th>91</th>\n",
       "      <td>0.063555</td>\n",
       "      <td>0.000171</td>\n",
       "      <td>0.069003</td>\n",
       "      <td>0.000462</td>\n",
       "    </tr>\n",
       "    <tr>\n",
       "      <th>92</th>\n",
       "      <td>0.063522</td>\n",
       "      <td>0.000149</td>\n",
       "      <td>0.069004</td>\n",
       "      <td>0.000459</td>\n",
       "    </tr>\n",
       "    <tr>\n",
       "      <th>93</th>\n",
       "      <td>0.063467</td>\n",
       "      <td>0.000169</td>\n",
       "      <td>0.068996</td>\n",
       "      <td>0.000469</td>\n",
       "    </tr>\n",
       "    <tr>\n",
       "      <th>94</th>\n",
       "      <td>0.063406</td>\n",
       "      <td>0.000173</td>\n",
       "      <td>0.068994</td>\n",
       "      <td>0.000485</td>\n",
       "    </tr>\n",
       "    <tr>\n",
       "      <th>95</th>\n",
       "      <td>0.063349</td>\n",
       "      <td>0.000189</td>\n",
       "      <td>0.069004</td>\n",
       "      <td>0.000480</td>\n",
       "    </tr>\n",
       "    <tr>\n",
       "      <th>96</th>\n",
       "      <td>0.063301</td>\n",
       "      <td>0.000196</td>\n",
       "      <td>0.069028</td>\n",
       "      <td>0.000480</td>\n",
       "    </tr>\n",
       "    <tr>\n",
       "      <th>97</th>\n",
       "      <td>0.063251</td>\n",
       "      <td>0.000204</td>\n",
       "      <td>0.069025</td>\n",
       "      <td>0.000488</td>\n",
       "    </tr>\n",
       "    <tr>\n",
       "      <th>98</th>\n",
       "      <td>0.063205</td>\n",
       "      <td>0.000181</td>\n",
       "      <td>0.069032</td>\n",
       "      <td>0.000490</td>\n",
       "    </tr>\n",
       "    <tr>\n",
       "      <th>99</th>\n",
       "      <td>0.063151</td>\n",
       "      <td>0.000171</td>\n",
       "      <td>0.069039</td>\n",
       "      <td>0.000484</td>\n",
       "    </tr>\n",
       "  </tbody>\n",
       "</table>\n",
       "</div>"
      ],
      "text/plain": [
       "    train-rmse-mean  train-rmse-std  test-rmse-mean  test-rmse-std\n",
       "90         0.063588        0.000180        0.069008       0.000449\n",
       "91         0.063555        0.000171        0.069003       0.000462\n",
       "92         0.063522        0.000149        0.069004       0.000459\n",
       "93         0.063467        0.000169        0.068996       0.000469\n",
       "94         0.063406        0.000173        0.068994       0.000485\n",
       "95         0.063349        0.000189        0.069004       0.000480\n",
       "96         0.063301        0.000196        0.069028       0.000480\n",
       "97         0.063251        0.000204        0.069025       0.000488\n",
       "98         0.063205        0.000181        0.069032       0.000490\n",
       "99         0.063151        0.000171        0.069039       0.000484"
      ]
     },
     "execution_count": 91,
     "metadata": {},
     "output_type": "execute_result"
    }
   ],
   "source": [
    "cvSearch = xgb.cv(param, dtrain, nfold = 3, num_boost_round = 100, verbose_eval = 10)\n",
    "cvSearch.tail(10)"
   ]
  },
  {
   "cell_type": "code",
   "execution_count": 92,
   "metadata": {},
   "outputs": [
    {
     "name": "stdout",
     "output_type": "stream",
     "text": [
      "best number of rounds = 94\n",
      "rmse = 0.06899433333333334\n"
     ]
    },
    {
     "data": {
      "image/png": "[encoded data removed]",
      "text/plain": [
       "<Figure size 432x288 with 1 Axes>"
      ]
     },
     "metadata": {
      "needs_background": "light"
     },
     "output_type": "display_data"
    }
   ],
   "source": [
    "eps = 1e-6\n",
    "bestNR = np.argmax(cvSearch['test-rmse-mean']<eps+min(cvSearch['test-rmse-mean']))\n",
    "bestRMSE = cvSearch.loc[bestNR,'test-rmse-mean']\n",
    "plt.plot(cvSearch['test-rmse-mean'])\n",
    "print('best number of rounds =',bestNR)\n",
    "print('rmse =',bestRMSE) \n",
    "#using bestNR"
   ]
  },
  {
   "cell_type": "code",
   "execution_count": 95,
   "metadata": {},
   "outputs": [
    {
     "name": "stdout",
     "output_type": "stream",
     "text": [
      "0.06788811506075422\n"
     ]
    }
   ],
   "source": [
    "modelSearch = xgb.train(param, dtrain, num_boost_round = 95)\n",
    "print(RMSE(y_test, modelSearch.predict(xgb.DMatrix(x_test))))"
   ]
  },
  {
   "cell_type": "code",
   "execution_count": 96,
   "metadata": {},
   "outputs": [
    {
     "name": "stdout",
     "output_type": "stream",
     "text": [
      "r2_train [[1.         0.76402709]\n",
      " [0.76402709 1.        ]]\n",
      "r2_test [[1.         0.73765336]\n",
      " [0.73765336 1.        ]]\n"
     ]
    }
   ],
   "source": [
    "print(\"r2_train\", np.corrcoef(y_train, modelSearch.predict(xgb.DMatrix(x_train)))**2)\n",
    "print(\"r2_test\", np.corrcoef(y_test, modelSearch.predict(xgb.DMatrix(x_test)))**2)"
   ]
  },
  {
   "cell_type": "code",
   "execution_count": 81,
   "metadata": {},
   "outputs": [
    {
     "data": {
      "text/plain": [
       "XGBRegressor(base_score=0.5, booster='gbtree', colsample_bylevel=1,\n",
       "             colsample_bynode=1, colsample_bytree=1, gamma=0, gpu_id=-1,\n",
       "             importance_type='gain', interaction_constraints='',\n",
       "             learning_rate=0.300000012, max_delta_step=0, max_depth=6,\n",
       "             min_child_weight=1, missing=nan, monotone_constraints='()',\n",
       "             n_estimators=100, n_jobs=0, num_parallel_tree=1, random_state=42,\n",
       "             reg_alpha=0, reg_lambda=1, scale_pos_weight=1, subsample=1,\n",
       "             tree_method='exact', validate_parameters=1, verbosity=None)"
      ]
     },
     "execution_count": 81,
     "metadata": {},
     "output_type": "execute_result"
    }
   ],
   "source": [
    "regSearch = XGBRegressor(objective='reg:squarederror', random_state=42)\n",
    "regSearch.fit(x_train, y_train)"
   ]
  },
  {
   "cell_type": "code",
   "execution_count": 84,
   "metadata": {},
   "outputs": [
    {
     "data": {
      "text/plain": [
       "100"
      ]
     },
     "execution_count": 84,
     "metadata": {},
     "output_type": "execute_result"
    }
   ],
   "source": [
    "regSearch.get_num_boosting_rounds()"
   ]
  },
  {
   "cell_type": "code",
   "execution_count": 85,
   "metadata": {},
   "outputs": [
    {
     "data": {
      "text/plain": [
       "{'objective': 'reg:squarederror',\n",
       " 'base_score': 0.5,\n",
       " 'booster': 'gbtree',\n",
       " 'colsample_bylevel': 1,\n",
       " 'colsample_bynode': 1,\n",
       " 'colsample_bytree': 1,\n",
       " 'gamma': 0,\n",
       " 'gpu_id': -1,\n",
       " 'importance_type': 'gain',\n",
       " 'interaction_constraints': '',\n",
       " 'learning_rate': 0.300000012,\n",
       " 'max_delta_step': 0,\n",
       " 'max_depth': 6,\n",
       " 'min_child_weight': 1,\n",
       " 'missing': nan,\n",
       " 'monotone_constraints': '()',\n",
       " 'n_estimators': 100,\n",
       " 'n_jobs': 0,\n",
       " 'num_parallel_tree': 1,\n",
       " 'random_state': 42,\n",
       " 'reg_alpha': 0,\n",
       " 'reg_lambda': 1,\n",
       " 'scale_pos_weight': 1,\n",
       " 'subsample': 1,\n",
       " 'tree_method': 'exact',\n",
       " 'validate_parameters': 1,\n",
       " 'verbosity': None}"
      ]
     },
     "execution_count": 85,
     "metadata": {},
     "output_type": "execute_result"
    }
   ],
   "source": [
    "regSearch.get_params()"
   ]
  },
  {
   "cell_type": "code",
   "execution_count": 86,
   "metadata": {},
   "outputs": [
    {
     "name": "stdout",
     "output_type": "stream",
     "text": [
      "0.0678860107659058\n"
     ]
    }
   ],
   "source": [
    "print(RMSE(y_test, regSearch.predict(x_test)))"
   ]
  },
  {
   "cell_type": "code",
   "execution_count": 87,
   "metadata": {},
   "outputs": [
    {
     "name": "stdout",
     "output_type": "stream",
     "text": [
      "r2_train [[1.         0.76466962]\n",
      " [0.76466962 1.        ]]\n",
      "r2_test [[1.         0.73766503]\n",
      " [0.73766503 1.        ]]\n"
     ]
    }
   ],
   "source": [
    "print(\"r2_train\", np.corrcoef(y_train, regSearch.predict(x_train))**2)\n",
    "print(\"r2_test\", np.corrcoef(y_test, regSearch.predict(x_test))**2)"
   ]
  },
  {
   "cell_type": "code",
   "execution_count": 97,
   "metadata": {},
   "outputs": [
    {
     "name": "stdout",
     "output_type": "stream",
     "text": [
      "0.06816535816763715\n"
     ]
    }
   ],
   "source": [
    "regSearch1 = XGBRegressor(objective='reg:squarederror', learning_rate=0.35, n_estimators = 95, random_state=42)\n",
    "regSearch1.fit(x_train, y_train)\n",
    "print(RMSE(y_test, regSearch1.predict(x_test)))"
   ]
  },
  {
   "cell_type": "code",
   "execution_count": 98,
   "metadata": {},
   "outputs": [
    {
     "name": "stdout",
     "output_type": "stream",
     "text": [
      "r2_train [[1.         0.76532865]\n",
      " [0.76532865 1.        ]]\n",
      "r2_test [[1.         0.73545217]\n",
      " [0.73545217 1.        ]]\n"
     ]
    }
   ],
   "source": [
    "print(\"r2_train\", np.corrcoef(y_train, regSearch1.predict(x_train))**2)\n",
    "print(\"r2_test\", np.corrcoef(y_test, regSearch1.predict(x_test))**2)"
   ]
  },
  {
   "cell_type": "code",
   "execution_count": 48,
   "metadata": {},
   "outputs": [],
   "source": [
    "df0 = pd.read_csv('V5.csv')"
   ]
  },
  {
   "cell_type": "markdown",
   "metadata": {},
   "source": [
    "#### Randomize Search XGboost"
   ]
  },
  {
   "cell_type": "code",
   "execution_count": 122,
   "metadata": {},
   "outputs": [],
   "source": [
    "param_grid = {\n",
    "    'learning_rate': [0.1, 0.15, 0.2, 0.25],\n",
    "    'max_depth': [5,6],\n",
    "    'n_estimators': [i*10 for i in range(9, 20)]\n",
    "}"
   ]
  },
  {
   "cell_type": "code",
   "execution_count": 123,
   "metadata": {},
   "outputs": [
    {
     "data": {
      "text/plain": [
       "RandomizedSearchCV(cv=3,\n",
       "                   estimator=XGBRegressor(base_score=0.5, booster='gbtree',\n",
       "                                          colsample_bylevel=1,\n",
       "                                          colsample_bynode=1,\n",
       "                                          colsample_bytree=1, gamma=0,\n",
       "                                          gpu_id=-1, importance_type='gain',\n",
       "                                          interaction_constraints='',\n",
       "                                          learning_rate=0.300000012,\n",
       "                                          max_delta_step=0, max_depth=6,\n",
       "                                          min_child_weight=1, missing=nan,\n",
       "                                          monotone_constraints='()',\n",
       "                                          n_estimators=100, n_jobs=0,\n",
       "                                          num_parallel_tree=1, random_state=42,\n",
       "                                          reg_alpha=0, reg_lambda=1,\n",
       "                                          scale_pos_weight=1, subsample=1,\n",
       "                                          tree_method='exact',\n",
       "                                          validate_parameters=1,\n",
       "                                          verbosity=None),\n",
       "                   n_jobs=-1,\n",
       "                   param_distributions={'learning_rate': [0.1, 0.15, 0.2, 0.25],\n",
       "                                        'max_depth': [5, 6],\n",
       "                                        'n_estimators': [90, 100, 110, 120, 130,\n",
       "                                                         140, 150, 160, 170,\n",
       "                                                         180, 190]},\n",
       "                   scoring='r2')"
      ]
     },
     "execution_count": 123,
     "metadata": {},
     "output_type": "execute_result"
    }
   ],
   "source": [
    "grid = RandomizedSearchCV(estimator = regSearch, scoring = 'r2',\n",
    "                          param_distributions = param_grid, n_jobs=-1, cv=3)\n",
    "\n",
    "grid.fit(x_train, y_train)"
   ]
  },
  {
   "cell_type": "code",
   "execution_count": 124,
   "metadata": {},
   "outputs": [
    {
     "data": {
      "text/plain": [
       "{'n_estimators': 180, 'max_depth': 6, 'learning_rate': 0.15}"
      ]
     },
     "execution_count": 124,
     "metadata": {},
     "output_type": "execute_result"
    }
   ],
   "source": [
    "grid.best_params_"
   ]
  },
  {
   "cell_type": "code",
   "execution_count": 125,
   "metadata": {},
   "outputs": [
    {
     "name": "stdout",
     "output_type": "stream",
     "text": [
      "0.06788007871677024\n"
     ]
    }
   ],
   "source": [
    "print(RMSE(y_test, grid.best_estimator_.predict(x_test)))"
   ]
  },
  {
   "cell_type": "code",
   "execution_count": 126,
   "metadata": {},
   "outputs": [
    {
     "name": "stdout",
     "output_type": "stream",
     "text": [
      "r2_train [[1.         0.76069052]\n",
      " [0.76069052 1.        ]]\n",
      "r2_test [[1.         0.73779665]\n",
      " [0.73779665 1.        ]]\n"
     ]
    }
   ],
   "source": [
    "print(\"r2_train\", np.corrcoef(y_train, grid.best_estimator_.predict(x_train))**2)\n",
    "print(\"r2_test\", np.corrcoef(y_test, grid.best_estimator_.predict(x_test))**2)"
   ]
  },
  {
   "cell_type": "markdown",
   "metadata": {},
   "source": [
    "#### k-fold cv search XGboost"
   ]
  },
  {
   "cell_type": "code",
   "execution_count": 104,
   "metadata": {},
   "outputs": [
    {
     "name": "stdout",
     "output_type": "stream",
     "text": [
      "Accuracy: 73.59% (0.25%)\n"
     ]
    }
   ],
   "source": [
    "# k-fold cross validation evaluation of xgboost model\n",
    "from sklearn.model_selection import KFold\n",
    "from sklearn.model_selection import cross_val_score\n",
    "\n",
    "model = XGBRegressor()\n",
    "kfold = KFold(n_splits=10, random_state=42, shuffle=True)\n",
    "results = cross_val_score(model, X, Y, cv=kfold)\n",
    "print(\"Accuracy: %.2f%% (%.2f%%)\" % (results.mean()*100, results.std()*100))"
   ]
  },
  {
   "cell_type": "code",
   "execution_count": 106,
   "metadata": {},
   "outputs": [],
   "source": [
    "model = XGBRegressor(n_estimators = 130,\n",
    "          learning_rate = 0.15,\n",
    "          eval_metric = 'logloss',\n",
    "          max_depth = 5,\n",
    "          objective = 'reg:squarederror',\n",
    "          subsample = 0.5, \n",
    "          random_sate=42)"
   ]
  },
  {
   "cell_type": "code",
   "execution_count": 107,
   "metadata": {},
   "outputs": [
    {
     "name": "stdout",
     "output_type": "stream",
     "text": [
      "[10:48:06] WARNING: C:\\Users\\Administrator\\workspace\\xgboost-win64_release_1.2.0\\src\\learner.cc:516: \n",
      "Parameters: { random_sate } might not be used.\n",
      "\n",
      "  This may not be accurate due to some parameters are only used in language bindings but\n",
      "  passed down to XGBoost core.  Or some parameters are not used but slip through this\n",
      "  verification. Please open an issue if you find above cases.\n",
      "\n",
      "\n"
     ]
    },
    {
     "data": {
      "text/plain": [
       "XGBRegressor(base_score=0.5, booster='gbtree', colsample_bylevel=1,\n",
       "             colsample_bynode=1, colsample_bytree=1, eval_metric='logloss',\n",
       "             gamma=0, gpu_id=-1, importance_type='gain',\n",
       "             interaction_constraints='', learning_rate=0.15, max_delta_step=0,\n",
       "             max_depth=5, min_child_weight=1, missing=nan,\n",
       "             monotone_constraints='()', n_estimators=130, n_jobs=0,\n",
       "             num_parallel_tree=1, random_sate=42, random_state=0, reg_alpha=0,\n",
       "             reg_lambda=1, scale_pos_weight=1, subsample=0.5,\n",
       "             tree_method='exact', validate_parameters=1, verbosity=None)"
      ]
     },
     "execution_count": 107,
     "metadata": {},
     "output_type": "execute_result"
    }
   ],
   "source": [
    "model.fit(x_train, y_train)"
   ]
  },
  {
   "cell_type": "code",
   "execution_count": 108,
   "metadata": {},
   "outputs": [
    {
     "name": "stdout",
     "output_type": "stream",
     "text": [
      "0.06897266220073059\n"
     ]
    }
   ],
   "source": [
    "print(RMSE(y_test, model.predict(x_test)))"
   ]
  },
  {
   "cell_type": "code",
   "execution_count": 109,
   "metadata": {},
   "outputs": [
    {
     "name": "stdout",
     "output_type": "stream",
     "text": [
      "r2_train [[1.         0.74020682]\n",
      " [0.74020682 1.        ]]\n",
      "r2_test [[1.        0.7295638]\n",
      " [0.7295638 1.       ]]\n"
     ]
    }
   ],
   "source": [
    "print(\"r2_train\", np.corrcoef(y_train, model.predict(x_train))**2)\n",
    "print(\"r2_test\", np.corrcoef(y_test, model.predict(x_test))**2)"
   ]
  },
  {
   "cell_type": "code",
   "execution_count": 115,
   "metadata": {},
   "outputs": [],
   "source": [
    "# best parameters dict\n",
    "params = {\n",
    "          'eta': 0.15,\n",
    "          'eval_metric': 'rmse',\n",
    "          'max_depth': 6,\n",
    "          'objective': 'reg:squarederror',\n",
    "          'subsample': 0.5\n",
    "}"
   ]
  },
  {
   "cell_type": "code",
   "execution_count": 111,
   "metadata": {},
   "outputs": [],
   "source": [
    "dtest = xgb.DMatrix(x_test, label=y_test)"
   ]
  },
  {
   "cell_type": "code",
   "execution_count": 116,
   "metadata": {},
   "outputs": [
    {
     "name": "stdout",
     "output_type": "stream",
     "text": [
      "[0]\tTest-rmse:0.40553\n",
      "Will train until Test-rmse hasn't improved in 10 rounds.\n",
      "[1]\tTest-rmse:0.34690\n",
      "[2]\tTest-rmse:0.29733\n",
      "[3]\tTest-rmse:0.25583\n",
      "[4]\tTest-rmse:0.22087\n",
      "[5]\tTest-rmse:0.19170\n",
      "[6]\tTest-rmse:0.16758\n",
      "[7]\tTest-rmse:0.14760\n",
      "[8]\tTest-rmse:0.13131\n",
      "[9]\tTest-rmse:0.11793\n",
      "[10]\tTest-rmse:0.10724\n",
      "[11]\tTest-rmse:0.09869\n",
      "[12]\tTest-rmse:0.09201\n",
      "[13]\tTest-rmse:0.08689\n",
      "[14]\tTest-rmse:0.08277\n",
      "[15]\tTest-rmse:0.07974\n",
      "[16]\tTest-rmse:0.07745\n",
      "[17]\tTest-rmse:0.07577\n",
      "[18]\tTest-rmse:0.07431\n",
      "[19]\tTest-rmse:0.07320\n",
      "[20]\tTest-rmse:0.07252\n",
      "[21]\tTest-rmse:0.07197\n",
      "[22]\tTest-rmse:0.07145\n",
      "[23]\tTest-rmse:0.07109\n",
      "[24]\tTest-rmse:0.07079\n",
      "[25]\tTest-rmse:0.07043\n",
      "[26]\tTest-rmse:0.07018\n",
      "[27]\tTest-rmse:0.07000\n",
      "[28]\tTest-rmse:0.06987\n",
      "[29]\tTest-rmse:0.06975\n",
      "[30]\tTest-rmse:0.06969\n",
      "[31]\tTest-rmse:0.06966\n",
      "[32]\tTest-rmse:0.06961\n",
      "[33]\tTest-rmse:0.06957\n",
      "[34]\tTest-rmse:0.06956\n",
      "[35]\tTest-rmse:0.06955\n",
      "[36]\tTest-rmse:0.06952\n",
      "[37]\tTest-rmse:0.06951\n",
      "[38]\tTest-rmse:0.06943\n",
      "[39]\tTest-rmse:0.06939\n",
      "[40]\tTest-rmse:0.06938\n",
      "[41]\tTest-rmse:0.06936\n",
      "[42]\tTest-rmse:0.06933\n",
      "[43]\tTest-rmse:0.06933\n",
      "[44]\tTest-rmse:0.06929\n",
      "[45]\tTest-rmse:0.06927\n",
      "[46]\tTest-rmse:0.06926\n",
      "[47]\tTest-rmse:0.06926\n",
      "[48]\tTest-rmse:0.06924\n",
      "[49]\tTest-rmse:0.06923\n",
      "[50]\tTest-rmse:0.06919\n",
      "[51]\tTest-rmse:0.06919\n",
      "[52]\tTest-rmse:0.06916\n",
      "[53]\tTest-rmse:0.06913\n",
      "[54]\tTest-rmse:0.06913\n",
      "[55]\tTest-rmse:0.06912\n",
      "[56]\tTest-rmse:0.06905\n",
      "[57]\tTest-rmse:0.06903\n",
      "[58]\tTest-rmse:0.06902\n",
      "[59]\tTest-rmse:0.06901\n",
      "[60]\tTest-rmse:0.06896\n",
      "[61]\tTest-rmse:0.06896\n",
      "[62]\tTest-rmse:0.06897\n",
      "[63]\tTest-rmse:0.06895\n",
      "[64]\tTest-rmse:0.06895\n",
      "[65]\tTest-rmse:0.06896\n",
      "[66]\tTest-rmse:0.06895\n",
      "[67]\tTest-rmse:0.06893\n",
      "[68]\tTest-rmse:0.06892\n",
      "[69]\tTest-rmse:0.06892\n",
      "[70]\tTest-rmse:0.06892\n",
      "[71]\tTest-rmse:0.06891\n",
      "[72]\tTest-rmse:0.06884\n",
      "[73]\tTest-rmse:0.06882\n",
      "[74]\tTest-rmse:0.06883\n",
      "[75]\tTest-rmse:0.06883\n",
      "[76]\tTest-rmse:0.06882\n",
      "[77]\tTest-rmse:0.06880\n",
      "[78]\tTest-rmse:0.06876\n",
      "[79]\tTest-rmse:0.06874\n",
      "[80]\tTest-rmse:0.06874\n",
      "[81]\tTest-rmse:0.06874\n",
      "[82]\tTest-rmse:0.06874\n",
      "[83]\tTest-rmse:0.06873\n",
      "[84]\tTest-rmse:0.06873\n",
      "[85]\tTest-rmse:0.06874\n",
      "[86]\tTest-rmse:0.06875\n",
      "[87]\tTest-rmse:0.06874\n",
      "[88]\tTest-rmse:0.06874\n",
      "[89]\tTest-rmse:0.06874\n",
      "[90]\tTest-rmse:0.06875\n",
      "[91]\tTest-rmse:0.06870\n",
      "[92]\tTest-rmse:0.06870\n",
      "[93]\tTest-rmse:0.06870\n",
      "[94]\tTest-rmse:0.06868\n",
      "[95]\tTest-rmse:0.06870\n",
      "[96]\tTest-rmse:0.06871\n",
      "[97]\tTest-rmse:0.06871\n",
      "[98]\tTest-rmse:0.06868\n",
      "[99]\tTest-rmse:0.06867\n",
      "[100]\tTest-rmse:0.06866\n",
      "[101]\tTest-rmse:0.06866\n",
      "[102]\tTest-rmse:0.06864\n",
      "[103]\tTest-rmse:0.06863\n",
      "[104]\tTest-rmse:0.06862\n",
      "[105]\tTest-rmse:0.06863\n",
      "[106]\tTest-rmse:0.06864\n",
      "[107]\tTest-rmse:0.06862\n",
      "[108]\tTest-rmse:0.06863\n",
      "[109]\tTest-rmse:0.06864\n",
      "[110]\tTest-rmse:0.06864\n",
      "[111]\tTest-rmse:0.06864\n",
      "[112]\tTest-rmse:0.06865\n",
      "[113]\tTest-rmse:0.06864\n",
      "[114]\tTest-rmse:0.06862\n",
      "[115]\tTest-rmse:0.06861\n",
      "[116]\tTest-rmse:0.06861\n",
      "[117]\tTest-rmse:0.06859\n",
      "[118]\tTest-rmse:0.06859\n",
      "[119]\tTest-rmse:0.06859\n",
      "[120]\tTest-rmse:0.06859\n",
      "[121]\tTest-rmse:0.06859\n",
      "[122]\tTest-rmse:0.06860\n",
      "[123]\tTest-rmse:0.06860\n",
      "[124]\tTest-rmse:0.06858\n",
      "[125]\tTest-rmse:0.06859\n",
      "[126]\tTest-rmse:0.06857\n",
      "[127]\tTest-rmse:0.06859\n",
      "[128]\tTest-rmse:0.06858\n",
      "[129]\tTest-rmse:0.06857\n",
      "[130]\tTest-rmse:0.06858\n",
      "[131]\tTest-rmse:0.06858\n",
      "[132]\tTest-rmse:0.06858\n",
      "[133]\tTest-rmse:0.06859\n",
      "[134]\tTest-rmse:0.06860\n",
      "[135]\tTest-rmse:0.06859\n",
      "[136]\tTest-rmse:0.06859\n",
      "Stopping. Best iteration:\n",
      "[126]\tTest-rmse:0.06857\n",
      "\n"
     ]
    }
   ],
   "source": [
    "model1 = xgb.train(\n",
    "    params,\n",
    "    dtrain,\n",
    "    num_boost_round=200,\n",
    "    evals=[(dtest, \"Test\")],\n",
    "    early_stopping_rounds=10\n",
    ")"
   ]
  },
  {
   "cell_type": "code",
   "execution_count": 117,
   "metadata": {},
   "outputs": [
    {
     "name": "stdout",
     "output_type": "stream",
     "text": [
      "Best : 0.07 in 127 rounds\n"
     ]
    }
   ],
   "source": [
    "print(\"Best : {:.2f} in {} rounds\".format(model1.best_score, model1.best_iteration+1))"
   ]
  },
  {
   "cell_type": "code",
   "execution_count": 121,
   "metadata": {},
   "outputs": [
    {
     "name": "stdout",
     "output_type": "stream",
     "text": [
      "r2_train [[1.         0.75547494]\n",
      " [0.75547494 1.        ]]\n",
      "r2_test [[1.         0.73235692]\n",
      " [0.73235692 1.        ]]\n"
     ]
    }
   ],
   "source": [
    "print(\"r2_train\", np.corrcoef(y_train, model1.predict(dtrain))**2)\n",
    "print(\"r2_test\", np.corrcoef(y_test, model1.predict(dtest))**2)"
   ]
  },
  {
   "cell_type": "code",
   "execution_count": 127,
   "metadata": {},
   "outputs": [],
   "source": [
    "Y_ctr = np.exp(grid.best_estimator_.predict(X))-1.0"
   ]
  },
  {
   "cell_type": "code",
   "execution_count": 128,
   "metadata": {},
   "outputs": [],
   "source": [
    "df0['CTR_prediction'] = Y_ctr"
   ]
  },
  {
   "cell_type": "code",
   "execution_count": 129,
   "metadata": {},
   "outputs": [
    {
     "data": {
      "text/html": [
       "<div>\n",
       "<style scoped>\n",
       "    .dataframe tbody tr th:only-of-type {\n",
       "        vertical-align: middle;\n",
       "    }\n",
       "\n",
       "    .dataframe tbody tr th {\n",
       "        vertical-align: top;\n",
       "    }\n",
       "\n",
       "    .dataframe thead th {\n",
       "        text-align: right;\n",
       "    }\n",
       "</style>\n",
       "<table border=\"1\" class=\"dataframe\">\n",
       "  <thead>\n",
       "    <tr style=\"text-align: right;\">\n",
       "      <th></th>\n",
       "      <th>Unnamed: 0</th>\n",
       "      <th>Unnamed: 0.1</th>\n",
       "      <th>DATE_ID</th>\n",
       "      <th>CAMPAIGN</th>\n",
       "      <th>KEYWORD</th>\n",
       "      <th>_POSITION</th>\n",
       "      <th>CLICKS</th>\n",
       "      <th>CPC</th>\n",
       "      <th>IMPRESSIONS</th>\n",
       "      <th>MEDIA_COST</th>\n",
       "      <th>CTR</th>\n",
       "      <th>Flag</th>\n",
       "      <th>CAMP_ID</th>\n",
       "      <th>week</th>\n",
       "      <th>KW_ID</th>\n",
       "      <th>Q</th>\n",
       "      <th>NETWORK_Bing</th>\n",
       "      <th>NETWORK_Google</th>\n",
       "      <th>NETWORK_Yahoo</th>\n",
       "      <th>CAMPAIGN_TYPE_Branded</th>\n",
       "      <th>CAMPAIGN_TYPE_Unbranded</th>\n",
       "      <th>cluster_assignment</th>\n",
       "      <th>cluster_name</th>\n",
       "      <th>RF_classsifier_prediction</th>\n",
       "      <th>XG_classsifier_prediction</th>\n",
       "      <th>CTR_prediction</th>\n",
       "    </tr>\n",
       "  </thead>\n",
       "  <tbody>\n",
       "    <tr>\n",
       "      <th>0</th>\n",
       "      <td>0</td>\n",
       "      <td>0</td>\n",
       "      <td>20170521</td>\n",
       "      <td>Non Brand | Condition | Geo</td>\n",
       "      <td>symptoms of asthma</td>\n",
       "      <td>2.08</td>\n",
       "      <td>3</td>\n",
       "      <td>1.8</td>\n",
       "      <td>51</td>\n",
       "      <td>5.4</td>\n",
       "      <td>0.058824</td>\n",
       "      <td>1</td>\n",
       "      <td>1</td>\n",
       "      <td>7</td>\n",
       "      <td>1</td>\n",
       "      <td>2</td>\n",
       "      <td>0</td>\n",
       "      <td>1</td>\n",
       "      <td>0</td>\n",
       "      <td>0</td>\n",
       "      <td>1</td>\n",
       "      <td>13</td>\n",
       "      <td>asthma symptoms and causes</td>\n",
       "      <td>1</td>\n",
       "      <td>1</td>\n",
       "      <td>0.098548</td>\n",
       "    </tr>\n",
       "    <tr>\n",
       "      <th>1</th>\n",
       "      <td>1</td>\n",
       "      <td>1</td>\n",
       "      <td>20170521</td>\n",
       "      <td>Brand</td>\n",
       "      <td>product1 spacer</td>\n",
       "      <td>1.00</td>\n",
       "      <td>0</td>\n",
       "      <td>0.0</td>\n",
       "      <td>2</td>\n",
       "      <td>0.0</td>\n",
       "      <td>0.000000</td>\n",
       "      <td>0</td>\n",
       "      <td>2</td>\n",
       "      <td>7</td>\n",
       "      <td>2</td>\n",
       "      <td>2</td>\n",
       "      <td>0</td>\n",
       "      <td>1</td>\n",
       "      <td>0</td>\n",
       "      <td>1</td>\n",
       "      <td>0</td>\n",
       "      <td>1</td>\n",
       "      <td>product1 inhaler/spacer uses, coupons &amp; instru...</td>\n",
       "      <td>0</td>\n",
       "      <td>0</td>\n",
       "      <td>0.000056</td>\n",
       "    </tr>\n",
       "    <tr>\n",
       "      <th>2</th>\n",
       "      <td>2</td>\n",
       "      <td>2</td>\n",
       "      <td>20170521</td>\n",
       "      <td>Non Brand | Treatment | National</td>\n",
       "      <td>how to prevent asthma</td>\n",
       "      <td>1.48</td>\n",
       "      <td>0</td>\n",
       "      <td>0.0</td>\n",
       "      <td>4</td>\n",
       "      <td>0.0</td>\n",
       "      <td>0.000000</td>\n",
       "      <td>0</td>\n",
       "      <td>3</td>\n",
       "      <td>7</td>\n",
       "      <td>3</td>\n",
       "      <td>2</td>\n",
       "      <td>0</td>\n",
       "      <td>1</td>\n",
       "      <td>0</td>\n",
       "      <td>0</td>\n",
       "      <td>1</td>\n",
       "      <td>2</td>\n",
       "      <td>asthma facts, causes, prevention &amp; relief/control</td>\n",
       "      <td>0</td>\n",
       "      <td>0</td>\n",
       "      <td>-0.002218</td>\n",
       "    </tr>\n",
       "    <tr>\n",
       "      <th>3</th>\n",
       "      <td>3</td>\n",
       "      <td>3</td>\n",
       "      <td>20170521</td>\n",
       "      <td>Non Brand | Info | Geo</td>\n",
       "      <td>facts about asthma</td>\n",
       "      <td>0.00</td>\n",
       "      <td>0</td>\n",
       "      <td>0.0</td>\n",
       "      <td>0</td>\n",
       "      <td>0.0</td>\n",
       "      <td>0.000000</td>\n",
       "      <td>0</td>\n",
       "      <td>4</td>\n",
       "      <td>7</td>\n",
       "      <td>4</td>\n",
       "      <td>2</td>\n",
       "      <td>1</td>\n",
       "      <td>0</td>\n",
       "      <td>0</td>\n",
       "      <td>0</td>\n",
       "      <td>1</td>\n",
       "      <td>2</td>\n",
       "      <td>asthma facts, causes, prevention &amp; relief/control</td>\n",
       "      <td>0</td>\n",
       "      <td>0</td>\n",
       "      <td>0.000171</td>\n",
       "    </tr>\n",
       "    <tr>\n",
       "      <th>4</th>\n",
       "      <td>4</td>\n",
       "      <td>4</td>\n",
       "      <td>20170521</td>\n",
       "      <td>Non Brand | Condition | Geo</td>\n",
       "      <td>asthma symptoms in children</td>\n",
       "      <td>0.00</td>\n",
       "      <td>0</td>\n",
       "      <td>0.0</td>\n",
       "      <td>0</td>\n",
       "      <td>0.0</td>\n",
       "      <td>0.000000</td>\n",
       "      <td>0</td>\n",
       "      <td>1</td>\n",
       "      <td>7</td>\n",
       "      <td>5</td>\n",
       "      <td>2</td>\n",
       "      <td>1</td>\n",
       "      <td>0</td>\n",
       "      <td>0</td>\n",
       "      <td>0</td>\n",
       "      <td>1</td>\n",
       "      <td>19</td>\n",
       "      <td>asthma symptoms &amp; causes in children</td>\n",
       "      <td>0</td>\n",
       "      <td>0</td>\n",
       "      <td>0.000160</td>\n",
       "    </tr>\n",
       "  </tbody>\n",
       "</table>\n",
       "</div>"
      ],
      "text/plain": [
       "   Unnamed: 0  Unnamed: 0.1   DATE_ID                          CAMPAIGN  \\\n",
       "0           0             0  20170521       Non Brand | Condition | Geo   \n",
       "1           1             1  20170521                             Brand   \n",
       "2           2             2  20170521  Non Brand | Treatment | National   \n",
       "3           3             3  20170521            Non Brand | Info | Geo   \n",
       "4           4             4  20170521       Non Brand | Condition | Geo   \n",
       "\n",
       "                       KEYWORD  _POSITION  CLICKS  CPC  IMPRESSIONS  \\\n",
       "0           symptoms of asthma       2.08       3  1.8           51   \n",
       "1              product1 spacer       1.00       0  0.0            2   \n",
       "2        how to prevent asthma       1.48       0  0.0            4   \n",
       "3           facts about asthma       0.00       0  0.0            0   \n",
       "4  asthma symptoms in children       0.00       0  0.0            0   \n",
       "\n",
       "   MEDIA_COST       CTR  Flag  CAMP_ID  week  KW_ID  Q  NETWORK_Bing  \\\n",
       "0         5.4  0.058824     1        1     7      1  2             0   \n",
       "1         0.0  0.000000     0        2     7      2  2             0   \n",
       "2         0.0  0.000000     0        3     7      3  2             0   \n",
       "3         0.0  0.000000     0        4     7      4  2             1   \n",
       "4         0.0  0.000000     0        1     7      5  2             1   \n",
       "\n",
       "   NETWORK_Google  NETWORK_Yahoo  CAMPAIGN_TYPE_Branded  \\\n",
       "0               1              0                      0   \n",
       "1               1              0                      1   \n",
       "2               1              0                      0   \n",
       "3               0              0                      0   \n",
       "4               0              0                      0   \n",
       "\n",
       "   CAMPAIGN_TYPE_Unbranded  cluster_assignment  \\\n",
       "0                        1                  13   \n",
       "1                        0                   1   \n",
       "2                        1                   2   \n",
       "3                        1                   2   \n",
       "4                        1                  19   \n",
       "\n",
       "                                        cluster_name  \\\n",
       "0                         asthma symptoms and causes   \n",
       "1  product1 inhaler/spacer uses, coupons & instru...   \n",
       "2  asthma facts, causes, prevention & relief/control   \n",
       "3  asthma facts, causes, prevention & relief/control   \n",
       "4               asthma symptoms & causes in children   \n",
       "\n",
       "   RF_classsifier_prediction  XG_classsifier_prediction  CTR_prediction  \n",
       "0                          1                          1        0.098548  \n",
       "1                          0                          0        0.000056  \n",
       "2                          0                          0       -0.002218  \n",
       "3                          0                          0        0.000171  \n",
       "4                          0                          0        0.000160  "
      ]
     },
     "execution_count": 129,
     "metadata": {},
     "output_type": "execute_result"
    }
   ],
   "source": [
    "df0.head()"
   ]
  },
  {
   "cell_type": "markdown",
   "metadata": {},
   "source": [
    "#### Adaboost"
   ]
  },
  {
   "cell_type": "code",
   "execution_count": 130,
   "metadata": {},
   "outputs": [],
   "source": [
    "from sklearn.ensemble import AdaBoostRegressor\n",
    "from sklearn.tree import DecisionTreeRegressor"
   ]
  },
  {
   "cell_type": "code",
   "execution_count": 135,
   "metadata": {},
   "outputs": [],
   "source": [
    "# Instantiate dt\n",
    "dt = DecisionTreeRegressor(max_depth=6, random_state=11)\n",
    "# Instantiate ada\n",
    "ada = AdaBoostRegressor(base_estimator=dt, learning_rate = 0.15, n_estimators=180, random_state=11)"
   ]
  },
  {
   "cell_type": "code",
   "execution_count": 136,
   "metadata": {},
   "outputs": [],
   "source": [
    "ada.fit(x_train, y_train)\n",
    "\n",
    "# Compute the probabilities of obtaining the positive class\n",
    "ada_y_pred = ada.predict(x_test)"
   ]
  },
  {
   "cell_type": "code",
   "execution_count": 137,
   "metadata": {},
   "outputs": [
    {
     "name": "stdout",
     "output_type": "stream",
     "text": [
      "Test set RMSE of rf: 0.30\n",
      "Train set RMSE of rf: 0.30\n"
     ]
    }
   ],
   "source": [
    "ada_y_pred_train = ada.predict(x_train)\n",
    "# Evaluate the test set RMSE\n",
    "ada_rmse_test = RMSE(y_test, ada_y_pred)**(1/2)\n",
    "ada_rmse_train = RMSE(y_train, ada_y_pred_train)**(1/2)\n",
    "\n",
    "print('Test set RMSE of rf: {:.2f}'.format(ada_rmse_test))\n",
    "print('Train set RMSE of rf: {:.2f}'.format(ada_rmse_train))"
   ]
  },
  {
   "cell_type": "code",
   "execution_count": 138,
   "metadata": {},
   "outputs": [
    {
     "name": "stdout",
     "output_type": "stream",
     "text": [
      "r2_train [[1.         0.66461496]\n",
      " [0.66461496 1.        ]]\n",
      "r2_test [[1.         0.66509828]\n",
      " [0.66509828 1.        ]]\n"
     ]
    }
   ],
   "source": [
    "print(\"r2_train\", np.corrcoef(y_train, ada_y_pred_train)**2)\n",
    "print(\"r2_test\", np.corrcoef(y_test, ada_y_pred)**2)"
   ]
  },
  {
   "cell_type": "markdown",
   "metadata": {},
   "source": [
    "### Regression on log Clicks"
   ]
  },
  {
   "cell_type": "code",
   "execution_count": 139,
   "metadata": {},
   "outputs": [],
   "source": [
    "X1 = X \n",
    "Y1 = df['logClicks'].values"
   ]
  },
  {
   "cell_type": "code",
   "execution_count": 140,
   "metadata": {},
   "outputs": [],
   "source": [
    "x_train, x_test, y_train, y_test = train_test_split(X1, Y1, test_size = 0.3, random_state=121)"
   ]
  },
  {
   "cell_type": "markdown",
   "metadata": {},
   "source": [
    "#### Random Forest"
   ]
  },
  {
   "cell_type": "code",
   "execution_count": 95,
   "metadata": {},
   "outputs": [],
   "source": [
    "rf = RandomForestRegressor(n_estimators=400, min_samples_leaf=0.12, random_state=121)\n",
    "rf.fit(x_train, y_train)\n",
    "\n",
    "# Predict the test set labels 'y_pred'\n",
    "y_pred = rf.predict(x_test)\n",
    "y_pred_train = rf.predict(x_train)"
   ]
  },
  {
   "cell_type": "code",
   "execution_count": 96,
   "metadata": {},
   "outputs": [
    {
     "name": "stdout",
     "output_type": "stream",
     "text": [
      "Test set RMSE of rf: 0.30\n",
      "Train set RMSE of rf: 0.30\n"
     ]
    }
   ],
   "source": [
    "# Evaluate the test set RMSE\n",
    "rmse_test = RMSE(y_test, y_pred)\n",
    "rmse_train = RMSE(y_train, y_pred_train)\n",
    "\n",
    "# Print the test set RMSE\n",
    "print('Test set RMSE of rf: {:.2f}'.format(rmse_test))\n",
    "print('Train set RMSE of rf: {:.2f}'.format(rmse_train))"
   ]
  },
  {
   "cell_type": "code",
   "execution_count": 97,
   "metadata": {},
   "outputs": [
    {
     "name": "stdout",
     "output_type": "stream",
     "text": [
      "[[1.         0.67322421]\n",
      " [0.67322421 1.        ]]\n",
      "[[1.         0.67262969]\n",
      " [0.67262969 1.        ]]\n"
     ]
    }
   ],
   "source": [
    "r2_train = np.corrcoef(y_train, y_pred_train)**2\n",
    "r2_test = np.corrcoef(y_test, y_pred)**2\n",
    "print(r2_train)\n",
    "print(r2_test)"
   ]
  },
  {
   "cell_type": "code",
   "execution_count": 141,
   "metadata": {},
   "outputs": [],
   "source": [
    "param_grid = {'max_features': [6, 8, 'auto', 'log2'],\n",
    "              'min_samples_leaf': [0.08, 0.10, 0.12],\n",
    "              'n_estimators': [300, 400, 500]}"
   ]
  },
  {
   "cell_type": "code",
   "execution_count": 142,
   "metadata": {},
   "outputs": [],
   "source": [
    "rf0 = RandomForestRegressor(random_state=12, oob_score = True, bootstrap = True)"
   ]
  },
  {
   "cell_type": "code",
   "execution_count": 143,
   "metadata": {},
   "outputs": [],
   "source": [
    "from sklearn.model_selection import RandomizedSearchCV\n",
    "rf_random = RandomizedSearchCV(estimator = rf0, param_distributions = param_grid, scoring = \"r2\",\n",
    "                               n_iter = 10, cv = 3, verbose = 1, n_jobs = -1)"
   ]
  },
  {
   "cell_type": "code",
   "execution_count": 144,
   "metadata": {},
   "outputs": [
    {
     "name": "stdout",
     "output_type": "stream",
     "text": [
      "Fitting 3 folds for each of 10 candidates, totalling 30 fits\n"
     ]
    },
    {
     "name": "stderr",
     "output_type": "stream",
     "text": [
      "[Parallel(n_jobs=-1)]: Using backend LokyBackend with 4 concurrent workers.\n",
      "[Parallel(n_jobs=-1)]: Done  30 out of  30 | elapsed: 20.9min finished\n"
     ]
    },
    {
     "data": {
      "text/plain": [
       "RandomizedSearchCV(cv=3,\n",
       "                   estimator=RandomForestRegressor(oob_score=True,\n",
       "                                                   random_state=12),\n",
       "                   n_jobs=-1,\n",
       "                   param_distributions={'max_features': [6, 8, 'auto', 'log2'],\n",
       "                                        'min_samples_leaf': [0.08, 0.1, 0.12],\n",
       "                                        'n_estimators': [300, 400, 500]},\n",
       "                   scoring='r2', verbose=1)"
      ]
     },
     "execution_count": 144,
     "metadata": {},
     "output_type": "execute_result"
    }
   ],
   "source": [
    "rf_random.fit(x_train, y_train)"
   ]
  },
  {
   "cell_type": "code",
   "execution_count": 145,
   "metadata": {},
   "outputs": [
    {
     "data": {
      "text/plain": [
       "{'n_estimators': 500, 'min_samples_leaf': 0.1, 'max_features': 'auto'}"
      ]
     },
     "execution_count": 145,
     "metadata": {},
     "output_type": "execute_result"
    }
   ],
   "source": [
    "rf_random.best_params_"
   ]
  },
  {
   "cell_type": "code",
   "execution_count": 148,
   "metadata": {},
   "outputs": [
    {
     "name": "stdout",
     "output_type": "stream",
     "text": [
      "test RMSE = 0.3003970887747891\n"
     ]
    }
   ],
   "source": [
    "print('test RMSE =', RMSE(y_test, rf_random.best_estimator_.predict(x_test)))"
   ]
  },
  {
   "cell_type": "code",
   "execution_count": 149,
   "metadata": {},
   "outputs": [
    {
     "name": "stdout",
     "output_type": "stream",
     "text": [
      "r2_train [[1.         0.67322421]\n",
      " [0.67322421 1.        ]]\n",
      "r2_test [[1.        0.6726297]\n",
      " [0.6726297 1.       ]]\n"
     ]
    }
   ],
   "source": [
    "print(\"r2_train\", np.corrcoef(y_train, rf_random.best_estimator_.predict(x_train))**2)\n",
    "print(\"r2_test\", np.corrcoef(y_test, rf_random.best_estimator_.predict(x_test))**2)"
   ]
  },
  {
   "cell_type": "markdown",
   "metadata": {},
   "source": [
    "#### XGboost"
   ]
  },
  {
   "cell_type": "code",
   "execution_count": 150,
   "metadata": {},
   "outputs": [],
   "source": [
    "param_grid = {\n",
    "    'learning_rate': [0.1, 0.15, 0.2, 0.25],\n",
    "    'max_depth': [5,6],\n",
    "    'n_estimators': [i*10 for i in range(9, 20)]\n",
    "}"
   ]
  },
  {
   "cell_type": "code",
   "execution_count": 151,
   "metadata": {},
   "outputs": [
    {
     "data": {
      "text/plain": [
       "RandomizedSearchCV(cv=3,\n",
       "                   estimator=XGBRegressor(base_score=None, booster=None,\n",
       "                                          colsample_bylevel=None,\n",
       "                                          colsample_bynode=None,\n",
       "                                          colsample_bytree=None, gamma=None,\n",
       "                                          gpu_id=None, importance_type='gain',\n",
       "                                          interaction_constraints=None,\n",
       "                                          learning_rate=None,\n",
       "                                          max_delta_step=None, max_depth=None,\n",
       "                                          min_child_weight=None, missing=nan,\n",
       "                                          monotone_constraints=None,\n",
       "                                          n_estimators=100, n_jobs=None,\n",
       "                                          num_parallel_tree=None,\n",
       "                                          random_state=None, reg_alpha=None,\n",
       "                                          reg_lambda=None,\n",
       "                                          scale_pos_weight=None, seed=122,\n",
       "                                          subsample=None, tree_method=None,\n",
       "                                          validate_parameters=None,\n",
       "                                          verbosity=None),\n",
       "                   n_jobs=-1,\n",
       "                   param_distributions={'learning_rate': [0.1, 0.15, 0.2, 0.25],\n",
       "                                        'max_depth': [5, 6],\n",
       "                                        'n_estimators': [90, 100, 110, 120, 130,\n",
       "                                                         140, 150, 160, 170,\n",
       "                                                         180, 190]},\n",
       "                   scoring='r2')"
      ]
     },
     "execution_count": 151,
     "metadata": {},
     "output_type": "execute_result"
    }
   ],
   "source": [
    "grid = RandomizedSearchCV(estimator = XGBRegressor(objective= 'reg:squarederror', random_state=122), scoring = 'r2',\n",
    "                          param_distributions = param_grid, n_jobs=-1, cv=3)\n",
    "\n",
    "grid.fit(x_train, y_train)"
   ]
  },
  {
   "cell_type": "code",
   "execution_count": 152,
   "metadata": {},
   "outputs": [
    {
     "data": {
      "text/plain": [
       "{'n_estimators': 190, 'max_depth': 6, 'learning_rate': 0.15}"
      ]
     },
     "execution_count": 152,
     "metadata": {},
     "output_type": "execute_result"
    }
   ],
   "source": [
    "grid.best_params_"
   ]
  },
  {
   "cell_type": "code",
   "execution_count": 153,
   "metadata": {},
   "outputs": [
    {
     "name": "stdout",
     "output_type": "stream",
     "text": [
      "0.1037742266128132\n"
     ]
    }
   ],
   "source": [
    "print(RMSE(y_test, grid.best_estimator_.predict(x_test)))"
   ]
  },
  {
   "cell_type": "code",
   "execution_count": 154,
   "metadata": {},
   "outputs": [
    {
     "name": "stdout",
     "output_type": "stream",
     "text": [
      "r2_train [[1.        0.9658691]\n",
      " [0.9658691 1.       ]]\n",
      "r2_test [[1.         0.96093869]\n",
      " [0.96093869 1.        ]]\n"
     ]
    }
   ],
   "source": [
    "print(\"r2_train\", np.corrcoef(y_train, grid.best_estimator_.predict(x_train))**2)\n",
    "print(\"r2_test\", np.corrcoef(y_test, grid.best_estimator_.predict(x_test))**2)"
   ]
  },
  {
   "cell_type": "code",
   "execution_count": 155,
   "metadata": {},
   "outputs": [],
   "source": [
    "Y_click = np.exp(grid.best_estimator_.predict(X))-1.0"
   ]
  },
  {
   "cell_type": "code",
   "execution_count": 156,
   "metadata": {},
   "outputs": [],
   "source": [
    "df0['Click_prediction'] = Y_click"
   ]
  },
  {
   "cell_type": "code",
   "execution_count": 157,
   "metadata": {},
   "outputs": [
    {
     "data": {
      "text/html": [
       "<div>\n",
       "<style scoped>\n",
       "    .dataframe tbody tr th:only-of-type {\n",
       "        vertical-align: middle;\n",
       "    }\n",
       "\n",
       "    .dataframe tbody tr th {\n",
       "        vertical-align: top;\n",
       "    }\n",
       "\n",
       "    .dataframe thead th {\n",
       "        text-align: right;\n",
       "    }\n",
       "</style>\n",
       "<table border=\"1\" class=\"dataframe\">\n",
       "  <thead>\n",
       "    <tr style=\"text-align: right;\">\n",
       "      <th></th>\n",
       "      <th>Unnamed: 0</th>\n",
       "      <th>Unnamed: 0.1</th>\n",
       "      <th>DATE_ID</th>\n",
       "      <th>CAMPAIGN</th>\n",
       "      <th>KEYWORD</th>\n",
       "      <th>_POSITION</th>\n",
       "      <th>CLICKS</th>\n",
       "      <th>CPC</th>\n",
       "      <th>IMPRESSIONS</th>\n",
       "      <th>MEDIA_COST</th>\n",
       "      <th>CTR</th>\n",
       "      <th>Flag</th>\n",
       "      <th>CAMP_ID</th>\n",
       "      <th>week</th>\n",
       "      <th>KW_ID</th>\n",
       "      <th>Q</th>\n",
       "      <th>NETWORK_Bing</th>\n",
       "      <th>NETWORK_Google</th>\n",
       "      <th>NETWORK_Yahoo</th>\n",
       "      <th>CAMPAIGN_TYPE_Branded</th>\n",
       "      <th>CAMPAIGN_TYPE_Unbranded</th>\n",
       "      <th>cluster_assignment</th>\n",
       "      <th>cluster_name</th>\n",
       "      <th>RF_classsifier_prediction</th>\n",
       "      <th>XG_classsifier_prediction</th>\n",
       "      <th>CTR_prediction</th>\n",
       "      <th>Click_prediction</th>\n",
       "    </tr>\n",
       "  </thead>\n",
       "  <tbody>\n",
       "    <tr>\n",
       "      <th>0</th>\n",
       "      <td>0</td>\n",
       "      <td>0</td>\n",
       "      <td>20170521</td>\n",
       "      <td>Non Brand | Condition | Geo</td>\n",
       "      <td>symptoms of asthma</td>\n",
       "      <td>2.08</td>\n",
       "      <td>3</td>\n",
       "      <td>1.8</td>\n",
       "      <td>51</td>\n",
       "      <td>5.4</td>\n",
       "      <td>0.058824</td>\n",
       "      <td>1</td>\n",
       "      <td>1</td>\n",
       "      <td>7</td>\n",
       "      <td>1</td>\n",
       "      <td>2</td>\n",
       "      <td>0</td>\n",
       "      <td>1</td>\n",
       "      <td>0</td>\n",
       "      <td>0</td>\n",
       "      <td>1</td>\n",
       "      <td>13</td>\n",
       "      <td>asthma symptoms and causes</td>\n",
       "      <td>1</td>\n",
       "      <td>1</td>\n",
       "      <td>0.098548</td>\n",
       "      <td>1.724145</td>\n",
       "    </tr>\n",
       "    <tr>\n",
       "      <th>1</th>\n",
       "      <td>1</td>\n",
       "      <td>1</td>\n",
       "      <td>20170521</td>\n",
       "      <td>Brand</td>\n",
       "      <td>product1 spacer</td>\n",
       "      <td>1.00</td>\n",
       "      <td>0</td>\n",
       "      <td>0.0</td>\n",
       "      <td>2</td>\n",
       "      <td>0.0</td>\n",
       "      <td>0.000000</td>\n",
       "      <td>0</td>\n",
       "      <td>2</td>\n",
       "      <td>7</td>\n",
       "      <td>2</td>\n",
       "      <td>2</td>\n",
       "      <td>0</td>\n",
       "      <td>1</td>\n",
       "      <td>0</td>\n",
       "      <td>1</td>\n",
       "      <td>0</td>\n",
       "      <td>1</td>\n",
       "      <td>product1 inhaler/spacer uses, coupons &amp; instru...</td>\n",
       "      <td>0</td>\n",
       "      <td>0</td>\n",
       "      <td>0.000056</td>\n",
       "      <td>0.000062</td>\n",
       "    </tr>\n",
       "    <tr>\n",
       "      <th>2</th>\n",
       "      <td>2</td>\n",
       "      <td>2</td>\n",
       "      <td>20170521</td>\n",
       "      <td>Non Brand | Treatment | National</td>\n",
       "      <td>how to prevent asthma</td>\n",
       "      <td>1.48</td>\n",
       "      <td>0</td>\n",
       "      <td>0.0</td>\n",
       "      <td>4</td>\n",
       "      <td>0.0</td>\n",
       "      <td>0.000000</td>\n",
       "      <td>0</td>\n",
       "      <td>3</td>\n",
       "      <td>7</td>\n",
       "      <td>3</td>\n",
       "      <td>2</td>\n",
       "      <td>0</td>\n",
       "      <td>1</td>\n",
       "      <td>0</td>\n",
       "      <td>0</td>\n",
       "      <td>1</td>\n",
       "      <td>2</td>\n",
       "      <td>asthma facts, causes, prevention &amp; relief/control</td>\n",
       "      <td>0</td>\n",
       "      <td>0</td>\n",
       "      <td>-0.002218</td>\n",
       "      <td>0.000543</td>\n",
       "    </tr>\n",
       "    <tr>\n",
       "      <th>3</th>\n",
       "      <td>3</td>\n",
       "      <td>3</td>\n",
       "      <td>20170521</td>\n",
       "      <td>Non Brand | Info | Geo</td>\n",
       "      <td>facts about asthma</td>\n",
       "      <td>0.00</td>\n",
       "      <td>0</td>\n",
       "      <td>0.0</td>\n",
       "      <td>0</td>\n",
       "      <td>0.0</td>\n",
       "      <td>0.000000</td>\n",
       "      <td>0</td>\n",
       "      <td>4</td>\n",
       "      <td>7</td>\n",
       "      <td>4</td>\n",
       "      <td>2</td>\n",
       "      <td>1</td>\n",
       "      <td>0</td>\n",
       "      <td>0</td>\n",
       "      <td>0</td>\n",
       "      <td>1</td>\n",
       "      <td>2</td>\n",
       "      <td>asthma facts, causes, prevention &amp; relief/control</td>\n",
       "      <td>0</td>\n",
       "      <td>0</td>\n",
       "      <td>0.000171</td>\n",
       "      <td>-0.000286</td>\n",
       "    </tr>\n",
       "    <tr>\n",
       "      <th>4</th>\n",
       "      <td>4</td>\n",
       "      <td>4</td>\n",
       "      <td>20170521</td>\n",
       "      <td>Non Brand | Condition | Geo</td>\n",
       "      <td>asthma symptoms in children</td>\n",
       "      <td>0.00</td>\n",
       "      <td>0</td>\n",
       "      <td>0.0</td>\n",
       "      <td>0</td>\n",
       "      <td>0.0</td>\n",
       "      <td>0.000000</td>\n",
       "      <td>0</td>\n",
       "      <td>1</td>\n",
       "      <td>7</td>\n",
       "      <td>5</td>\n",
       "      <td>2</td>\n",
       "      <td>1</td>\n",
       "      <td>0</td>\n",
       "      <td>0</td>\n",
       "      <td>0</td>\n",
       "      <td>1</td>\n",
       "      <td>19</td>\n",
       "      <td>asthma symptoms &amp; causes in children</td>\n",
       "      <td>0</td>\n",
       "      <td>0</td>\n",
       "      <td>0.000160</td>\n",
       "      <td>-0.000222</td>\n",
       "    </tr>\n",
       "  </tbody>\n",
       "</table>\n",
       "</div>"
      ],
      "text/plain": [
       "   Unnamed: 0  Unnamed: 0.1   DATE_ID                          CAMPAIGN  \\\n",
       "0           0             0  20170521       Non Brand | Condition | Geo   \n",
       "1           1             1  20170521                             Brand   \n",
       "2           2             2  20170521  Non Brand | Treatment | National   \n",
       "3           3             3  20170521            Non Brand | Info | Geo   \n",
       "4           4             4  20170521       Non Brand | Condition | Geo   \n",
       "\n",
       "                       KEYWORD  _POSITION  CLICKS  CPC  IMPRESSIONS  \\\n",
       "0           symptoms of asthma       2.08       3  1.8           51   \n",
       "1              product1 spacer       1.00       0  0.0            2   \n",
       "2        how to prevent asthma       1.48       0  0.0            4   \n",
       "3           facts about asthma       0.00       0  0.0            0   \n",
       "4  asthma symptoms in children       0.00       0  0.0            0   \n",
       "\n",
       "   MEDIA_COST       CTR  Flag  CAMP_ID  week  KW_ID  Q  NETWORK_Bing  \\\n",
       "0         5.4  0.058824     1        1     7      1  2             0   \n",
       "1         0.0  0.000000     0        2     7      2  2             0   \n",
       "2         0.0  0.000000     0        3     7      3  2             0   \n",
       "3         0.0  0.000000     0        4     7      4  2             1   \n",
       "4         0.0  0.000000     0        1     7      5  2             1   \n",
       "\n",
       "   NETWORK_Google  NETWORK_Yahoo  CAMPAIGN_TYPE_Branded  \\\n",
       "0               1              0                      0   \n",
       "1               1              0                      1   \n",
       "2               1              0                      0   \n",
       "3               0              0                      0   \n",
       "4               0              0                      0   \n",
       "\n",
       "   CAMPAIGN_TYPE_Unbranded  cluster_assignment  \\\n",
       "0                        1                  13   \n",
       "1                        0                   1   \n",
       "2                        1                   2   \n",
       "3                        1                   2   \n",
       "4                        1                  19   \n",
       "\n",
       "                                        cluster_name  \\\n",
       "0                         asthma symptoms and causes   \n",
       "1  product1 inhaler/spacer uses, coupons & instru...   \n",
       "2  asthma facts, causes, prevention & relief/control   \n",
       "3  asthma facts, causes, prevention & relief/control   \n",
       "4               asthma symptoms & causes in children   \n",
       "\n",
       "   RF_classsifier_prediction  XG_classsifier_prediction  CTR_prediction  \\\n",
       "0                          1                          1        0.098548   \n",
       "1                          0                          0        0.000056   \n",
       "2                          0                          0       -0.002218   \n",
       "3                          0                          0        0.000171   \n",
       "4                          0                          0        0.000160   \n",
       "\n",
       "   Click_prediction  \n",
       "0          1.724145  \n",
       "1          0.000062  \n",
       "2          0.000543  \n",
       "3         -0.000286  \n",
       "4         -0.000222  "
      ]
     },
     "execution_count": 157,
     "metadata": {},
     "output_type": "execute_result"
    }
   ],
   "source": [
    "df0.head()"
   ]
  },
  {
   "cell_type": "markdown",
   "metadata": {},
   "source": [
    "### Regression on log Impressions"
   ]
  },
  {
   "cell_type": "code",
   "execution_count": 158,
   "metadata": {},
   "outputs": [],
   "source": [
    "X2 = X\n",
    "Y2 = df['logImpression'].values"
   ]
  },
  {
   "cell_type": "code",
   "execution_count": 159,
   "metadata": {},
   "outputs": [],
   "source": [
    "x_train, x_test, y_train, y_test = train_test_split(X2, Y2, test_size = 0.3, random_state=121)"
   ]
  },
  {
   "cell_type": "markdown",
   "metadata": {},
   "source": [
    "#### Random Forest"
   ]
  },
  {
   "cell_type": "code",
   "execution_count": 160,
   "metadata": {},
   "outputs": [],
   "source": [
    "rf = RandomForestRegressor(n_estimators=500, min_samples_leaf=0.12, random_state=121)\n",
    "rf.fit(x_train, y_train)\n",
    "\n",
    "# Predict the test set labels 'y_pred'\n",
    "y_pred = rf.predict(x_test)\n",
    "y_pred_train = rf.predict(x_train)"
   ]
  },
  {
   "cell_type": "code",
   "execution_count": 161,
   "metadata": {},
   "outputs": [
    {
     "name": "stdout",
     "output_type": "stream",
     "text": [
      "Test set RMSE of rf: 0.96\n",
      "Train set RMSE of rf: 0.96\n"
     ]
    }
   ],
   "source": [
    "# Evaluate the test set RMSE\n",
    "rmse_test = RMSE(y_test, y_pred)\n",
    "rmse_train = RMSE(y_train, y_pred_train)\n",
    "\n",
    "# Print the test set RMSE\n",
    "print('Test set RMSE of rf: {:.2f}'.format(rmse_test))\n",
    "print('Train set RMSE of rf: {:.2f}'.format(rmse_train))"
   ]
  },
  {
   "cell_type": "code",
   "execution_count": 162,
   "metadata": {},
   "outputs": [
    {
     "name": "stdout",
     "output_type": "stream",
     "text": [
      "[[1.         0.28346396]\n",
      " [0.28346396 1.        ]]\n",
      "[[1.        0.2848198]\n",
      " [0.2848198 1.       ]]\n"
     ]
    }
   ],
   "source": [
    "r2_train = np.corrcoef(y_train, y_pred_train)**2\n",
    "r2_test = np.corrcoef(y_test, y_pred)**2\n",
    "print(r2_train)\n",
    "print(r2_test)"
   ]
  },
  {
   "cell_type": "markdown",
   "metadata": {},
   "source": [
    "#### XGboost"
   ]
  },
  {
   "cell_type": "code",
   "execution_count": 176,
   "metadata": {},
   "outputs": [],
   "source": [
    "param_grid = {\n",
    "    'learning_rate': [i*0.05 for i in range(3,13)],\n",
    "    'max_depth': [5,6],\n",
    "    'n_estimators': [i*10 for i in range(9, 30)]\n",
    "}"
   ]
  },
  {
   "cell_type": "code",
   "execution_count": 177,
   "metadata": {},
   "outputs": [
    {
     "data": {
      "text/plain": [
       "RandomizedSearchCV(cv=3,\n",
       "                   estimator=XGBRegressor(base_score=None, booster=None,\n",
       "                                          colsample_bylevel=None,\n",
       "                                          colsample_bynode=None,\n",
       "                                          colsample_bytree=None, gamma=None,\n",
       "                                          gpu_id=None, importance_type='gain',\n",
       "                                          interaction_constraints=None,\n",
       "                                          learning_rate=None,\n",
       "                                          max_delta_step=None, max_depth=None,\n",
       "                                          min_child_weight=None, missing=nan,\n",
       "                                          monotone_constraints=None,\n",
       "                                          n_estimators=100, n...\n",
       "                                          scale_pos_weight=None, subsample=None,\n",
       "                                          tree_method=None,\n",
       "                                          validate_parameters=None,\n",
       "                                          verbosity=None),\n",
       "                   n_jobs=-1,\n",
       "                   param_distributions={'learning_rate': [0.15000000000000002,\n",
       "                                                          0.2, 0.25,\n",
       "                                                          0.30000000000000004,\n",
       "                                                          0.35000000000000003,\n",
       "                                                          0.4, 0.45, 0.5, 0.55,\n",
       "                                                          0.6000000000000001],\n",
       "                                        'max_depth': [5, 6],\n",
       "                                        'n_estimators': [90, 100, 110, 120, 130,\n",
       "                                                         140, 150, 160, 170,\n",
       "                                                         180, 190, 200, 210,\n",
       "                                                         220, 230, 240, 250,\n",
       "                                                         260, 270, 280, 290]},\n",
       "                   scoring='r2')"
      ]
     },
     "execution_count": 177,
     "metadata": {},
     "output_type": "execute_result"
    }
   ],
   "source": [
    "grid = RandomizedSearchCV(estimator = XGBRegressor(objective= 'reg:squarederror', random_state=122), scoring = 'r2',\n",
    "                          param_distributions = param_grid, n_jobs=-1, cv=3)\n",
    "\n",
    "grid.fit(x_train, y_train)"
   ]
  },
  {
   "cell_type": "code",
   "execution_count": 178,
   "metadata": {},
   "outputs": [
    {
     "data": {
      "text/plain": [
       "{'n_estimators': 250, 'max_depth': 6, 'learning_rate': 0.4}"
      ]
     },
     "execution_count": 178,
     "metadata": {},
     "output_type": "execute_result"
    }
   ],
   "source": [
    "grid.best_params_"
   ]
  },
  {
   "cell_type": "code",
   "execution_count": 179,
   "metadata": {},
   "outputs": [
    {
     "name": "stdout",
     "output_type": "stream",
     "text": [
      "0.5369402963584342\n"
     ]
    }
   ],
   "source": [
    "print(RMSE(y_test, grid.best_estimator_.predict(x_test)))"
   ]
  },
  {
   "cell_type": "code",
   "execution_count": 180,
   "metadata": {},
   "outputs": [
    {
     "name": "stdout",
     "output_type": "stream",
     "text": [
      "r2_train [[1.         0.80629619]\n",
      " [0.80629619 1.        ]]\n",
      "r2_test [[1.         0.77508458]\n",
      " [0.77508458 1.        ]]\n"
     ]
    }
   ],
   "source": [
    "print(\"r2_train\", np.corrcoef(y_train, grid.best_estimator_.predict(x_train))**2)\n",
    "print(\"r2_test\", np.corrcoef(y_test, grid.best_estimator_.predict(x_test))**2)"
   ]
  },
  {
   "cell_type": "code",
   "execution_count": 181,
   "metadata": {},
   "outputs": [],
   "source": [
    "Y_imp = np.exp(grid.best_estimator_.predict(X))-1.0"
   ]
  },
  {
   "cell_type": "code",
   "execution_count": 182,
   "metadata": {},
   "outputs": [],
   "source": [
    "df0['Impression_prediction'] = Y_imp"
   ]
  },
  {
   "cell_type": "code",
   "execution_count": 183,
   "metadata": {},
   "outputs": [
    {
     "data": {
      "text/html": [
       "<div>\n",
       "<style scoped>\n",
       "    .dataframe tbody tr th:only-of-type {\n",
       "        vertical-align: middle;\n",
       "    }\n",
       "\n",
       "    .dataframe tbody tr th {\n",
       "        vertical-align: top;\n",
       "    }\n",
       "\n",
       "    .dataframe thead th {\n",
       "        text-align: right;\n",
       "    }\n",
       "</style>\n",
       "<table border=\"1\" class=\"dataframe\">\n",
       "  <thead>\n",
       "    <tr style=\"text-align: right;\">\n",
       "      <th></th>\n",
       "      <th>Unnamed: 0</th>\n",
       "      <th>Unnamed: 0.1</th>\n",
       "      <th>DATE_ID</th>\n",
       "      <th>CAMPAIGN</th>\n",
       "      <th>KEYWORD</th>\n",
       "      <th>_POSITION</th>\n",
       "      <th>CLICKS</th>\n",
       "      <th>CPC</th>\n",
       "      <th>IMPRESSIONS</th>\n",
       "      <th>MEDIA_COST</th>\n",
       "      <th>CTR</th>\n",
       "      <th>Flag</th>\n",
       "      <th>CAMP_ID</th>\n",
       "      <th>week</th>\n",
       "      <th>KW_ID</th>\n",
       "      <th>Q</th>\n",
       "      <th>NETWORK_Bing</th>\n",
       "      <th>NETWORK_Google</th>\n",
       "      <th>NETWORK_Yahoo</th>\n",
       "      <th>CAMPAIGN_TYPE_Branded</th>\n",
       "      <th>CAMPAIGN_TYPE_Unbranded</th>\n",
       "      <th>cluster_assignment</th>\n",
       "      <th>cluster_name</th>\n",
       "      <th>RF_classsifier_prediction</th>\n",
       "      <th>XG_classsifier_prediction</th>\n",
       "      <th>CTR_prediction</th>\n",
       "      <th>Click_prediction</th>\n",
       "      <th>Impression_prediction</th>\n",
       "    </tr>\n",
       "  </thead>\n",
       "  <tbody>\n",
       "    <tr>\n",
       "      <th>0</th>\n",
       "      <td>0</td>\n",
       "      <td>0</td>\n",
       "      <td>20170521</td>\n",
       "      <td>Non Brand | Condition | Geo</td>\n",
       "      <td>symptoms of asthma</td>\n",
       "      <td>2.08</td>\n",
       "      <td>3</td>\n",
       "      <td>1.8</td>\n",
       "      <td>51</td>\n",
       "      <td>5.4</td>\n",
       "      <td>0.058824</td>\n",
       "      <td>1</td>\n",
       "      <td>1</td>\n",
       "      <td>7</td>\n",
       "      <td>1</td>\n",
       "      <td>2</td>\n",
       "      <td>0</td>\n",
       "      <td>1</td>\n",
       "      <td>0</td>\n",
       "      <td>0</td>\n",
       "      <td>1</td>\n",
       "      <td>13</td>\n",
       "      <td>asthma symptoms and causes</td>\n",
       "      <td>1</td>\n",
       "      <td>1</td>\n",
       "      <td>0.098548</td>\n",
       "      <td>1.724145</td>\n",
       "      <td>18.544001</td>\n",
       "    </tr>\n",
       "    <tr>\n",
       "      <th>1</th>\n",
       "      <td>1</td>\n",
       "      <td>1</td>\n",
       "      <td>20170521</td>\n",
       "      <td>Brand</td>\n",
       "      <td>product1 spacer</td>\n",
       "      <td>1.00</td>\n",
       "      <td>0</td>\n",
       "      <td>0.0</td>\n",
       "      <td>2</td>\n",
       "      <td>0.0</td>\n",
       "      <td>0.000000</td>\n",
       "      <td>0</td>\n",
       "      <td>2</td>\n",
       "      <td>7</td>\n",
       "      <td>2</td>\n",
       "      <td>2</td>\n",
       "      <td>0</td>\n",
       "      <td>1</td>\n",
       "      <td>0</td>\n",
       "      <td>1</td>\n",
       "      <td>0</td>\n",
       "      <td>1</td>\n",
       "      <td>product1 inhaler/spacer uses, coupons &amp; instru...</td>\n",
       "      <td>0</td>\n",
       "      <td>0</td>\n",
       "      <td>0.000056</td>\n",
       "      <td>0.000062</td>\n",
       "      <td>1.901374</td>\n",
       "    </tr>\n",
       "    <tr>\n",
       "      <th>2</th>\n",
       "      <td>2</td>\n",
       "      <td>2</td>\n",
       "      <td>20170521</td>\n",
       "      <td>Non Brand | Treatment | National</td>\n",
       "      <td>how to prevent asthma</td>\n",
       "      <td>1.48</td>\n",
       "      <td>0</td>\n",
       "      <td>0.0</td>\n",
       "      <td>4</td>\n",
       "      <td>0.0</td>\n",
       "      <td>0.000000</td>\n",
       "      <td>0</td>\n",
       "      <td>3</td>\n",
       "      <td>7</td>\n",
       "      <td>3</td>\n",
       "      <td>2</td>\n",
       "      <td>0</td>\n",
       "      <td>1</td>\n",
       "      <td>0</td>\n",
       "      <td>0</td>\n",
       "      <td>1</td>\n",
       "      <td>2</td>\n",
       "      <td>asthma facts, causes, prevention &amp; relief/control</td>\n",
       "      <td>0</td>\n",
       "      <td>0</td>\n",
       "      <td>-0.002218</td>\n",
       "      <td>0.000543</td>\n",
       "      <td>7.478202</td>\n",
       "    </tr>\n",
       "    <tr>\n",
       "      <th>3</th>\n",
       "      <td>3</td>\n",
       "      <td>3</td>\n",
       "      <td>20170521</td>\n",
       "      <td>Non Brand | Info | Geo</td>\n",
       "      <td>facts about asthma</td>\n",
       "      <td>0.00</td>\n",
       "      <td>0</td>\n",
       "      <td>0.0</td>\n",
       "      <td>0</td>\n",
       "      <td>0.0</td>\n",
       "      <td>0.000000</td>\n",
       "      <td>0</td>\n",
       "      <td>4</td>\n",
       "      <td>7</td>\n",
       "      <td>4</td>\n",
       "      <td>2</td>\n",
       "      <td>1</td>\n",
       "      <td>0</td>\n",
       "      <td>0</td>\n",
       "      <td>0</td>\n",
       "      <td>1</td>\n",
       "      <td>2</td>\n",
       "      <td>asthma facts, causes, prevention &amp; relief/control</td>\n",
       "      <td>0</td>\n",
       "      <td>0</td>\n",
       "      <td>0.000171</td>\n",
       "      <td>-0.000286</td>\n",
       "      <td>0.003782</td>\n",
       "    </tr>\n",
       "    <tr>\n",
       "      <th>4</th>\n",
       "      <td>4</td>\n",
       "      <td>4</td>\n",
       "      <td>20170521</td>\n",
       "      <td>Non Brand | Condition | Geo</td>\n",
       "      <td>asthma symptoms in children</td>\n",
       "      <td>0.00</td>\n",
       "      <td>0</td>\n",
       "      <td>0.0</td>\n",
       "      <td>0</td>\n",
       "      <td>0.0</td>\n",
       "      <td>0.000000</td>\n",
       "      <td>0</td>\n",
       "      <td>1</td>\n",
       "      <td>7</td>\n",
       "      <td>5</td>\n",
       "      <td>2</td>\n",
       "      <td>1</td>\n",
       "      <td>0</td>\n",
       "      <td>0</td>\n",
       "      <td>0</td>\n",
       "      <td>1</td>\n",
       "      <td>19</td>\n",
       "      <td>asthma symptoms &amp; causes in children</td>\n",
       "      <td>0</td>\n",
       "      <td>0</td>\n",
       "      <td>0.000160</td>\n",
       "      <td>-0.000222</td>\n",
       "      <td>0.025772</td>\n",
       "    </tr>\n",
       "  </tbody>\n",
       "</table>\n",
       "</div>"
      ],
      "text/plain": [
       "   Unnamed: 0  Unnamed: 0.1   DATE_ID                          CAMPAIGN  \\\n",
       "0           0             0  20170521       Non Brand | Condition | Geo   \n",
       "1           1             1  20170521                             Brand   \n",
       "2           2             2  20170521  Non Brand | Treatment | National   \n",
       "3           3             3  20170521            Non Brand | Info | Geo   \n",
       "4           4             4  20170521       Non Brand | Condition | Geo   \n",
       "\n",
       "                       KEYWORD  _POSITION  CLICKS  CPC  IMPRESSIONS  \\\n",
       "0           symptoms of asthma       2.08       3  1.8           51   \n",
       "1              product1 spacer       1.00       0  0.0            2   \n",
       "2        how to prevent asthma       1.48       0  0.0            4   \n",
       "3           facts about asthma       0.00       0  0.0            0   \n",
       "4  asthma symptoms in children       0.00       0  0.0            0   \n",
       "\n",
       "   MEDIA_COST       CTR  Flag  CAMP_ID  week  KW_ID  Q  NETWORK_Bing  \\\n",
       "0         5.4  0.058824     1        1     7      1  2             0   \n",
       "1         0.0  0.000000     0        2     7      2  2             0   \n",
       "2         0.0  0.000000     0        3     7      3  2             0   \n",
       "3         0.0  0.000000     0        4     7      4  2             1   \n",
       "4         0.0  0.000000     0        1     7      5  2             1   \n",
       "\n",
       "   NETWORK_Google  NETWORK_Yahoo  CAMPAIGN_TYPE_Branded  \\\n",
       "0               1              0                      0   \n",
       "1               1              0                      1   \n",
       "2               1              0                      0   \n",
       "3               0              0                      0   \n",
       "4               0              0                      0   \n",
       "\n",
       "   CAMPAIGN_TYPE_Unbranded  cluster_assignment  \\\n",
       "0                        1                  13   \n",
       "1                        0                   1   \n",
       "2                        1                   2   \n",
       "3                        1                   2   \n",
       "4                        1                  19   \n",
       "\n",
       "                                        cluster_name  \\\n",
       "0                         asthma symptoms and causes   \n",
       "1  product1 inhaler/spacer uses, coupons & instru...   \n",
       "2  asthma facts, causes, prevention & relief/control   \n",
       "3  asthma facts, causes, prevention & relief/control   \n",
       "4               asthma symptoms & causes in children   \n",
       "\n",
       "   RF_classsifier_prediction  XG_classsifier_prediction  CTR_prediction  \\\n",
       "0                          1                          1        0.098548   \n",
       "1                          0                          0        0.000056   \n",
       "2                          0                          0       -0.002218   \n",
       "3                          0                          0        0.000171   \n",
       "4                          0                          0        0.000160   \n",
       "\n",
       "   Click_prediction  Impression_prediction  \n",
       "0          1.724145              18.544001  \n",
       "1          0.000062               1.901374  \n",
       "2          0.000543               7.478202  \n",
       "3         -0.000286               0.003782  \n",
       "4         -0.000222               0.025772  "
      ]
     },
     "execution_count": 183,
     "metadata": {},
     "output_type": "execute_result"
    }
   ],
   "source": [
    "df0.head()"
   ]
  },
  {
   "cell_type": "code",
   "execution_count": 184,
   "metadata": {},
   "outputs": [
    {
     "data": {
      "text/plain": [
       "Index(['Unnamed: 0', 'Unnamed: 0.1', 'DATE_ID', 'CAMPAIGN', 'KEYWORD',\n",
       "       '_POSITION', 'CLICKS', 'CPC', 'IMPRESSIONS', 'MEDIA_COST', 'CTR',\n",
       "       'Flag', 'CAMP_ID', 'week', 'KW_ID', 'Q', 'NETWORK_Bing',\n",
       "       'NETWORK_Google', 'NETWORK_Yahoo', 'CAMPAIGN_TYPE_Branded',\n",
       "       'CAMPAIGN_TYPE_Unbranded', 'cluster_assignment', 'cluster_name',\n",
       "       'RF_classsifier_prediction', 'XG_classsifier_prediction',\n",
       "       'CTR_prediction', 'Click_prediction', 'Impression_prediction'],\n",
       "      dtype='object')"
      ]
     },
     "execution_count": 184,
     "metadata": {},
     "output_type": "execute_result"
    }
   ],
   "source": [
    "df0.columns"
   ]
  },
  {
   "cell_type": "code",
   "execution_count": 185,
   "metadata": {},
   "outputs": [],
   "source": [
    "df0 = df0.drop(['Unnamed: 0','Unnamed: 0.1'],axis=1)"
   ]
  },
  {
   "cell_type": "code",
   "execution_count": 186,
   "metadata": {},
   "outputs": [],
   "source": [
    "df0.to_csv('V6.csv')"
   ]
  },
  {
   "cell_type": "code",
   "execution_count": null,
   "metadata": {},
   "outputs": [],
   "source": []
  }
 ],
 "metadata": {
  "kernelspec": {
   "display_name": "Python 3",
   "language": "python",
   "name": "python3"
  },
  "language_info": {
   "codemirror_mode": {
    "name": "ipython",
    "version": 3
   },
   "file_extension": ".py",
   "mimetype": "text/x-python",
   "name": "python",
   "nbconvert_exporter": "python",
   "pygments_lexer": "ipython3",
   "version": "3.7.6"
  }
 },
 "nbformat": 4,
 "nbformat_minor": 4
}
